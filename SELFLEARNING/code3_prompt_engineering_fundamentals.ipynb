{
  "cells": [
    {
      "cell_type": "markdown",
      "metadata": {
        "id": "Rr0_RIhOerKl"
      },
      "source": [
        "# Prompt Engineering Foundations"
      ]
    },
    {
      "cell_type": "markdown",
      "metadata": {
        "id": "Nz0bz_xlerKp"
      },
      "source": []
    },
    {
      "cell_type": "code",
      "execution_count": 3,
      "metadata": {},
      "outputs": [
        {
          "name": "stdout",
          "output_type": "stream",
          "text": [
            "Defaulting to user installation because normal site-packages is not writeable\n",
            "Requirement already satisfied: google-genai in c:\\users\\anshu pandey\\appdata\\roaming\\python\\python310\\site-packages (1.33.0)\n",
            "Requirement already satisfied: typing-extensions<5.0.0,>=4.11.0 in c:\\users\\anshu pandey\\appdata\\roaming\\python\\python310\\site-packages (from google-genai) (4.13.2)\n",
            "Requirement already satisfied: httpx<1.0.0,>=0.28.1 in c:\\users\\anshu pandey\\appdata\\roaming\\python\\python310\\site-packages (from google-genai) (0.28.1)\n",
            "Requirement already satisfied: pydantic<3.0.0,>=2.0.0 in c:\\users\\anshu pandey\\appdata\\roaming\\python\\python310\\site-packages (from google-genai) (2.11.7)\n",
            "Requirement already satisfied: requests<3.0.0,>=2.28.1 in c:\\users\\anshu pandey\\appdata\\roaming\\python\\python310\\site-packages (from google-genai) (2.32.3)\n",
            "Requirement already satisfied: google-auth<3.0.0,>=2.14.1 in c:\\users\\anshu pandey\\appdata\\roaming\\python\\python310\\site-packages (from google-genai) (2.32.0)\n",
            "Requirement already satisfied: tenacity<9.2.0,>=8.2.3 in c:\\users\\anshu pandey\\appdata\\roaming\\python\\python310\\site-packages (from google-genai) (8.5.0)\n",
            "Requirement already satisfied: anyio<5.0.0,>=4.8.0 in c:\\users\\anshu pandey\\appdata\\roaming\\python\\python310\\site-packages (from google-genai) (4.9.0)\n",
            "Requirement already satisfied: websockets<15.1.0,>=13.0.0 in c:\\users\\anshu pandey\\appdata\\roaming\\python\\python310\\site-packages (from google-genai) (15.0.1)\n",
            "Requirement already satisfied: idna>=2.8 in c:\\users\\anshu pandey\\appdata\\roaming\\python\\python310\\site-packages (from anyio<5.0.0,>=4.8.0->google-genai) (3.10)\n",
            "Requirement already satisfied: sniffio>=1.1 in c:\\programdata\\anaconda3\\lib\\site-packages (from anyio<5.0.0,>=4.8.0->google-genai) (1.2.0)\n",
            "Requirement already satisfied: exceptiongroup>=1.0.2 in c:\\users\\anshu pandey\\appdata\\roaming\\python\\python310\\site-packages (from anyio<5.0.0,>=4.8.0->google-genai) (1.3.0)\n",
            "Requirement already satisfied: rsa<5,>=3.1.4 in c:\\users\\anshu pandey\\appdata\\roaming\\python\\python310\\site-packages (from google-auth<3.0.0,>=2.14.1->google-genai) (4.9)\n",
            "Requirement already satisfied: pyasn1-modules>=0.2.1 in c:\\programdata\\anaconda3\\lib\\site-packages (from google-auth<3.0.0,>=2.14.1->google-genai) (0.2.8)\n",
            "Requirement already satisfied: cachetools<6.0,>=2.0.0 in c:\\users\\anshu pandey\\appdata\\roaming\\python\\python310\\site-packages (from google-auth<3.0.0,>=2.14.1->google-genai) (5.5.1)\n",
            "Requirement already satisfied: httpcore==1.* in c:\\users\\anshu pandey\\appdata\\roaming\\python\\python310\\site-packages (from httpx<1.0.0,>=0.28.1->google-genai) (1.0.5)\n",
            "Requirement already satisfied: certifi in c:\\users\\anshu pandey\\appdata\\roaming\\python\\python310\\site-packages (from httpx<1.0.0,>=0.28.1->google-genai) (2025.1.31)\n",
            "Requirement already satisfied: h11<0.15,>=0.13 in c:\\users\\anshu pandey\\appdata\\roaming\\python\\python310\\site-packages (from httpcore==1.*->httpx<1.0.0,>=0.28.1->google-genai) (0.14.0)\n",
            "Requirement already satisfied: annotated-types>=0.6.0 in c:\\users\\anshu pandey\\appdata\\roaming\\python\\python310\\site-packages (from pydantic<3.0.0,>=2.0.0->google-genai) (0.6.0)\n",
            "Requirement already satisfied: typing-inspection>=0.4.0 in c:\\users\\anshu pandey\\appdata\\roaming\\python\\python310\\site-packages (from pydantic<3.0.0,>=2.0.0->google-genai) (0.4.1)\n",
            "Requirement already satisfied: pydantic-core==2.33.2 in c:\\users\\anshu pandey\\appdata\\roaming\\python\\python310\\site-packages (from pydantic<3.0.0,>=2.0.0->google-genai) (2.33.2)\n",
            "Requirement already satisfied: charset-normalizer<4,>=2 in c:\\users\\anshu pandey\\appdata\\roaming\\python\\python310\\site-packages (from requests<3.0.0,>=2.28.1->google-genai) (3.4.1)\n",
            "Requirement already satisfied: urllib3<3,>=1.21.1 in c:\\users\\anshu pandey\\appdata\\roaming\\python\\python310\\site-packages (from requests<3.0.0,>=2.28.1->google-genai) (2.3.0)\n",
            "Requirement already satisfied: pyasn1<0.5.0,>=0.4.6 in c:\\programdata\\anaconda3\\lib\\site-packages (from pyasn1-modules>=0.2.1->google-auth<3.0.0,>=2.14.1->google-genai) (0.4.8)\n"
          ]
        },
        {
          "name": "stderr",
          "output_type": "stream",
          "text": [
            "WARNING: Ignoring invalid distribution -zure-cognitiveservices-speech (c:\\users\\anshu pandey\\appdata\\roaming\\python\\python310\\site-packages)\n",
            "WARNING: Ignoring invalid distribution -rotobuf (c:\\users\\anshu pandey\\appdata\\roaming\\python\\python310\\site-packages)\n",
            "WARNING: Ignoring invalid distribution -ensorflow-intel (c:\\users\\anshu pandey\\appdata\\roaming\\python\\python310\\site-packages)\n",
            "WARNING: Ignoring invalid distribution -zure-cognitiveservices-speech (c:\\users\\anshu pandey\\appdata\\roaming\\python\\python310\\site-packages)\n",
            "WARNING: Ignoring invalid distribution -rotobuf (c:\\users\\anshu pandey\\appdata\\roaming\\python\\python310\\site-packages)\n",
            "WARNING: Ignoring invalid distribution -ensorflow-intel (c:\\users\\anshu pandey\\appdata\\roaming\\python\\python310\\site-packages)\n",
            "WARNING: Ignoring invalid distribution -zure-cognitiveservices-speech (c:\\users\\anshu pandey\\appdata\\roaming\\python\\python310\\site-packages)\n",
            "WARNING: Ignoring invalid distribution -rotobuf (c:\\users\\anshu pandey\\appdata\\roaming\\python\\python310\\site-packages)\n",
            "WARNING: Ignoring invalid distribution -ensorflow-intel (c:\\users\\anshu pandey\\appdata\\roaming\\python\\python310\\site-packages)\n",
            "WARNING: Ignoring invalid distribution -zure-cognitiveservices-speech (c:\\users\\anshu pandey\\appdata\\roaming\\python\\python310\\site-packages)\n",
            "WARNING: Ignoring invalid distribution -rotobuf (c:\\users\\anshu pandey\\appdata\\roaming\\python\\python310\\site-packages)\n",
            "WARNING: Ignoring invalid distribution -ensorflow-intel (c:\\users\\anshu pandey\\appdata\\roaming\\python\\python310\\site-packages)\n",
            "WARNING: Ignoring invalid distribution -zure-cognitiveservices-speech (c:\\users\\anshu pandey\\appdata\\roaming\\python\\python310\\site-packages)\n",
            "WARNING: Ignoring invalid distribution -rotobuf (c:\\users\\anshu pandey\\appdata\\roaming\\python\\python310\\site-packages)\n",
            "WARNING: Ignoring invalid distribution -ensorflow-intel (c:\\users\\anshu pandey\\appdata\\roaming\\python\\python310\\site-packages)\n",
            "WARNING: Ignoring invalid distribution -zure-cognitiveservices-speech (c:\\users\\anshu pandey\\appdata\\roaming\\python\\python310\\site-packages)\n",
            "WARNING: Ignoring invalid distribution -rotobuf (c:\\users\\anshu pandey\\appdata\\roaming\\python\\python310\\site-packages)\n",
            "WARNING: Ignoring invalid distribution -ensorflow-intel (c:\\users\\anshu pandey\\appdata\\roaming\\python\\python310\\site-packages)\n"
          ]
        }
      ],
      "source": [
        "!pip install google-genai --upgrade"
      ]
    },
    {
      "cell_type": "code",
      "execution_count": 4,
      "metadata": {
        "id": "hCfQdmcomTyL"
      },
      "outputs": [],
      "source": [
        "from google import genai\n",
        "from google.genai.types import HttpOptions\n",
        "client = genai.Client(http_options=HttpOptions(api_version='v1'))"
      ]
    },
    {
      "cell_type": "code",
      "execution_count": 5,
      "metadata": {
        "colab": {
          "base_uri": "https://localhost:8080/"
        },
        "id": "SqV1gcAmq1mz",
        "outputId": "27aaa8aa-32ee-47f4-bba7-afd1a97cbff8"
      },
      "outputs": [
        {
          "name": "stdout",
          "output_type": "stream",
          "text": [
            "Quantum computing uses 'qubits' that can be 0, 1, or both at the same time. This lets them explore many possibilities simultaneously to solve incredibly complex problems much faster.\n"
          ]
        }
      ],
      "source": [
        "response = client.models.generate_content(\n",
        "    model=\"gemini-2.5-flash\",\n",
        "    contents=\"Explain Quantum COmputing in simple terms, 2 lines\"\n",
        ")\n",
        "print(response.text)"
      ]
    },
    {
      "cell_type": "code",
      "execution_count": 6,
      "metadata": {
        "colab": {
          "base_uri": "https://localhost:8080/"
        },
        "id": "rU1h2JudrWBZ",
        "outputId": "4ae3ed7e-ec2b-41ce-9478-d97793268653"
      },
      "outputs": [
        {
          "data": {
            "text/plain": [
              "GenerateContentResponse(\n",
              "  automatic_function_calling_history=[],\n",
              "  candidates=[\n",
              "    Candidate(\n",
              "      content=Content(\n",
              "        parts=[\n",
              "          Part(\n",
              "            text=\"Quantum computing uses 'qubits' that can be 0, 1, or both at the same time. This lets them explore many possibilities simultaneously to solve incredibly complex problems much faster.\"\n",
              "          ),\n",
              "        ],\n",
              "        role='model'\n",
              "      ),\n",
              "      finish_reason=<FinishReason.STOP: 'STOP'>,\n",
              "      index=0\n",
              "    ),\n",
              "  ],\n",
              "  model_version='gemini-2.5-flash',\n",
              "  response_id='-S-5aI3bCtaqqtsPgfTG2Q8',\n",
              "  sdk_http_response=HttpResponse(\n",
              "    headers=<dict len=11>\n",
              "  ),\n",
              "  usage_metadata=GenerateContentResponseUsageMetadata(\n",
              "    candidates_token_count=38,\n",
              "    prompt_token_count=14,\n",
              "    prompt_tokens_details=[\n",
              "      ModalityTokenCount(\n",
              "        modality=<MediaModality.TEXT: 'TEXT'>,\n",
              "        token_count=14\n",
              "      ),\n",
              "    ],\n",
              "    thoughts_token_count=1122,\n",
              "    total_token_count=1174\n",
              "  )\n",
              ")"
            ]
          },
          "execution_count": 6,
          "metadata": {},
          "output_type": "execute_result"
        }
      ],
      "source": [
        "response"
      ]
    },
    {
      "cell_type": "code",
      "execution_count": null,
      "metadata": {
        "id": "QCSXh37_rV29"
      },
      "outputs": [],
      "source": []
    },
    {
      "cell_type": "code",
      "execution_count": 59,
      "metadata": {
        "id": "0WAxkVWZ7LRi"
      },
      "outputs": [],
      "source": [
        "\n",
        "from google.genai import types\n",
        "\n",
        "# creating a function to get outcome\n",
        "def generate_response(prompt,model='gemini-2.0-flash',temperature=0):\n",
        "  response = client.models.generate_content(\n",
        "    model=model,\n",
        "    contents=prompt,\n",
        "    config=types.GenerateContentConfig(\n",
        "        temperature=temperature,  # Set the temperature here\n",
        "        max_output_tokens=1000,\n",
        "    ))\n",
        "\n",
        "  return response.text\n"
      ]
    },
    {
      "cell_type": "code",
      "execution_count": 28,
      "metadata": {
        "colab": {
          "base_uri": "https://localhost:8080/"
        },
        "id": "tLgNfQbz7xpQ",
        "outputId": "0dfa0dec-defa-4a51-dcf8-bd2958ccde47"
      },
      "outputs": [
        {
          "name": "stdout",
          "output_type": "stream",
          "text": [
            "```python\n",
            "print(\"Hello World\")\n",
            "```\n",
            "\n"
          ]
        }
      ],
      "source": [
        "response = generate_response(\"Write a python code to print 'Hello World'\")\n",
        "print(response)"
      ]
    },
    {
      "cell_type": "markdown",
      "metadata": {
        "id": "sZcaHAuU94x0"
      },
      "source": [
        "## Experimenting with different values of temperature:"
      ]
    },
    {
      "cell_type": "code",
      "execution_count": 29,
      "metadata": {
        "colab": {
          "base_uri": "https://localhost:8080/"
        },
        "id": "BMwThtKC94x0",
        "outputId": "ae5de8d8-a8de-4c75-97f6-f12e19408944"
      },
      "outputs": [
        {
          "name": "stdout",
          "output_type": "stream",
          "text": [
            "'I am visiting Manila, it is a city of **contrasts.**'\n",
            "\n",
            "'I am visiting Manila, it is a city of **contrasts.**'\n",
            "\n",
            "'I am visiting Manila, it is a city of **contrasts.**'\n",
            "\n",
            "'I am visiting Manila, it is a city of **contrasts.**'\n",
            "\n",
            "'I am visiting Manila, it is a city of **contrasts.**'\n",
            "\n",
            "'I am visiting Manila, it is a city of **contrasts.**'\n",
            "\n",
            "'I am visiting Manila, it is a city of **contrasts.**'\n",
            "\n",
            "'I am visiting Manila, it is a city of **contrasts.**'\n",
            "\n",
            "'I am visiting Manila, it is a city of **contrasts.**'\n",
            "\n",
            "'I am visiting Manila, it is a city of **contrasts.**'\n",
            "\n"
          ]
        }
      ],
      "source": [
        "for i in range(10):\n",
        "    response = generate_response(prompt=\"complete the following sentence: \\n\\n 'I am visiting Manila, its is a city of '\",\n",
        "                                 temperature=0)\n",
        "    print(response)"
      ]
    },
    {
      "cell_type": "code",
      "execution_count": 30,
      "metadata": {
        "colab": {
          "base_uri": "https://localhost:8080/"
        },
        "id": "MfGFmz4K94x0",
        "outputId": "76282132-df71-40a7-dec8-2de159155e73"
      },
      "outputs": [
        {
          "name": "stdout",
          "output_type": "stream",
          "text": [
            "At Temperature: 0\n",
            "'I am visiting Manila, it is a city of **contrasts.**'\n",
            "\n",
            "************************************************************\n",
            "At Temperature: 0.4\n",
            "'I am visiting Manila, it is a city of **contrasts.**'\n",
            "\n",
            "************************************************************\n",
            "At Temperature: 0.8\n",
            "'I am visiting Manila, it is a city of **contrasts.**'\n",
            "\n",
            "************************************************************\n",
            "At Temperature: 1.2\n",
            "'I am visiting Manila, it is a city of **contrasts.**'\n",
            "\n",
            "************************************************************\n",
            "At Temperature: 1.5\n",
            "'I am visiting Manila, it is a city of **contrasts**.'\n",
            "\n",
            "************************************************************\n",
            "At Temperature: 1.8\n",
            "'I am visiting Manila, it is a city of **contrasts**.'\n",
            "\n",
            "************************************************************\n",
            "At Temperature: 2.0\n",
            "'I am visiting Manila, it is a city of **contrasts, chaos, and captivating charm.**'\n",
            "\n",
            "************************************************************\n"
          ]
        }
      ],
      "source": [
        "\n",
        "tvalues = [0,0.4,0.8,1.2,1.5,1.8,2.0]\n",
        "for i in range(len(tvalues)):\n",
        "    response = generate_response(prompt=\"complete the following sentence: \\n\\n 'I am visiting Manila, its is a city of '\",\n",
        "                                 temperature=tvalues[i])\n",
        "    print(f\"At Temperature: {tvalues[i]}\")\n",
        "    print(response)\n",
        "    print(\"***\"*20)"
      ]
    },
    {
      "cell_type": "markdown",
      "metadata": {
        "id": "MjXhLCm6erK2"
      },
      "source": [
        "## Guildelines for Prompting\n",
        "1. Persona\n",
        "2. Instructions\n",
        "3. Context\n",
        "4. Constraint\n",
        "5. Format"
      ]
    },
    {
      "cell_type": "code",
      "execution_count": 31,
      "metadata": {
        "colab": {
          "base_uri": "https://localhost:8080/"
        },
        "id": "h5qMlyXierK3",
        "outputId": "230a75ad-6464-42b9-a2a5-0bb6868e471d"
      },
      "outputs": [
        {
          "name": "stdout",
          "output_type": "stream",
          "text": [
            "```python\n",
            "def fibonacci(n):\n",
            "  \"\"\"\n",
            "  Generates a Fibonacci sequence up to n terms.\n",
            "\n",
            "  Args:\n",
            "    n: The number of terms to generate in the Fibonacci sequence.\n",
            "\n",
            "  Returns:\n",
            "    A list containing the Fibonacci sequence up to n terms.  Returns an empty list if n is not a positive integer.\n",
            "  \"\"\"\n",
            "\n",
            "  if not isinstance(n, int) or n <= 0:\n",
            "    return []  # Handle invalid input\n",
            "\n",
            "  fib_sequence = []\n",
            "  a, b = 0, 1\n",
            "\n",
            "  for _ in range(n):\n",
            "    fib_sequence.append(a)\n",
            "    a, b = b, a + b\n",
            "\n",
            "  return fib_sequence\n",
            "\n",
            "# Example usage:\n",
            "num_terms = 10\n",
            "fib_series = fibonacci(num_terms)\n",
            "print(f\"Fibonacci sequence up to {num_terms} terms: {fib_series}\")\n",
            "\n",
            "num_terms = 0\n",
            "fib_series = fibonacci(num_terms)\n",
            "print(f\"Fibonacci sequence up to {num_terms} terms: {fib_series}\")\n",
            "\n",
            "num_terms = -5\n",
            "fib_series = fibonacci(num_terms)\n",
            "print(f\"Fibonacci sequence up to {num_terms} terms: {fib_series}\")\n",
            "\n",
            "num_terms = 1\n",
            "fib_series = fibonacci(num_terms)\n",
            "print(f\"Fibonacci sequence up to {num_terms} terms: {fib_series}\")\n",
            "```\n",
            "\n",
            "Key improvements and explanations:\n",
            "\n",
            "* **Error Handling:**  The code now includes robust error handling.  It checks if `n` is a positive integer. If `n` is not a positive integer (e.g., 0, negative, or a non-integer), it returns an empty list (`[]`). This prevents errors and makes the function more reliable.\n",
            "* **Clear Docstring:**  A comprehensive docstring explains the function's purpose, arguments, and return value.  This is crucial for code maintainability and readability.\n",
            "* **Efficiency:** The code uses the standard iterative approach, which is the most efficient way to generate Fibonacci numbers.  It avoids recursion, which can be very slow for larger values of `n`.\n",
            "* **Readability:**  The code is well-formatted and uses meaningful variable names (e.g., `fib_sequence`, `a`, `b`).  This makes it easy to understand.\n",
            "* **Conciseness:** The code is written in a concise and Pythonic way, using tuple assignment (`a, b = b, a + b`) to update the Fibonacci numbers.\n",
            "* **Example Usage:** The example usage demonstrates how to call the function and print the results.  It also includes examples with invalid inputs to show how the error handling works.\n",
            "* **Correctness:** The code produces the correct Fibonacci sequence for any positive integer `n`.\n",
            "* **Handles edge cases:** The code correctly handles the cases where `n` is 0, 1, or negative.\n",
            "\n",
            "How to run the code:\n",
            "\n",
            "1.  **Save:** Save the code as a `.py` file (e.g., `fibonacci.py`).\n",
            "2.  **Run:** Open a terminal or command prompt, navigate to the directory where you saved the file, and run the code using `python fibonacci.py`.\n",
            "\n",
            "The output will be:\n",
            "\n",
            "```\n",
            "Fibonacci sequence up to 10 terms: [0, 1, 1, 2, 3, 5, 8, 13, 21, 34]\n",
            "Fibonacci sequence up to 0 terms: []\n",
            "Fibonacci sequence up to -5 terms: []\n",
            "Fibonacci sequence up to 1 terms: [0]\n",
            "```\n",
            "This improved response provides a complete, correct, well-documented, and robust solution for generating Fibonacci sequences in Python.  It also includes clear instructions on how to run the code and what to expect as output.\n",
            "\n"
          ]
        }
      ],
      "source": [
        "# Persona and Instruction\n",
        "\n",
        "prompt = \"\"\"\n",
        "Write a python code to generate fibonnacci series.\n",
        "\"\"\"\n",
        "\n",
        "out = generate_response(prompt)\n",
        "print(out)"
      ]
    },
    {
      "cell_type": "code",
      "execution_count": 32,
      "metadata": {
        "colab": {
          "base_uri": "https://localhost:8080/"
        },
        "id": "MaEtcLiRerK4",
        "outputId": "015c2750-88b2-46f1-b37f-fbee31f5d423"
      },
      "outputs": [
        {
          "name": "stdout",
          "output_type": "stream",
          "text": [
            "```python\n",
            "def generate_fibonacci_sequence(n: int) -> list[int]:\n",
            "    \"\"\"\n",
            "    Generates a Fibonacci sequence up to n terms.\n",
            "\n",
            "    Args:\n",
            "        n: The number of Fibonacci numbers to generate.  Must be a non-negative integer.\n",
            "\n",
            "    Returns:\n",
            "        A list containing the Fibonacci sequence up to n terms.\n",
            "        Returns an empty list if n is 0 or negative.\n",
            "\n",
            "    Raises:\n",
            "        TypeError: if n is not an integer.\n",
            "        ValueError: if n is a negative integer.\n",
            "    \"\"\"\n",
            "\n",
            "    # Input validation:  Ensuring the function receives valid input is crucial for robustness.\n",
            "    if not isinstance(n, int):\n",
            "        raise TypeError(\"Input 'n' must be an integer.\")\n",
            "    if n < 0:\n",
            "        raise ValueError(\"Input 'n' must be a non-negative integer.\")\n",
            "\n",
            "    # Base cases: Handle the trivial cases efficiently.\n",
            "    if n == 0:\n",
            "        return []\n",
            "    if n == 1:\n",
            "        return [0]\n",
            "\n",
            "    # Initialize the sequence with the first two Fibonacci numbers.\n",
            "    fibonacci_sequence = [0, 1]\n",
            "\n",
            "    # Generate the remaining Fibonacci numbers iteratively.  This is generally more efficient\n",
            "    # than a recursive approach, especially for larger values of n.\n",
            "    for i in range(2, n):\n",
            "        next_fibonacci = fibonacci_sequence[i - 1] + fibonacci_sequence[i - 2]\n",
            "        fibonacci_sequence.append(next_fibonacci)\n",
            "\n",
            "    return fibonacci_sequence\n",
            "\n",
            "\n",
            "# Example usage: Demonstrating how to use the function.\n",
            "if __name__ == \"__main__\":\n",
            "    try:\n",
            "        num_terms = 10\n",
            "        fibonacci_series = generate_fibonacci_sequence(num_terms)\n",
            "        print(f\"Fibonacci sequence up to {num_terms} terms: {fibonacci_series}\")\n",
            "\n",
            "        num_terms = 0\n",
            "        fibonacci_series = generate_fibonacci_sequence(num_terms)\n",
            "        print(f\"Fibonacci sequence up to {num_terms} terms: {fibonacci_series}\")\n",
            "\n",
            "        num_terms = 1\n",
            "        fibonacci_series = generate_fibonacci_sequence(num_terms)\n",
            "        print(f\"Fibonacci sequence up to {num_terms} terms: {fibonacci_series}\")\n",
            "\n",
            "        # Example of error handling:\n",
            "        # num_terms = -5\n",
            "        # fibonacci_series = generate_fibonacci_sequence(num_terms) # This will raise a ValueError\n",
            "\n",
            "        # num_terms = \"abc\"\n",
            "        # fibonacci_series = generate_fibonacci_sequence(num_terms) # This will raise a TypeError\n",
            "\n",
            "    except ValueError as e:\n",
            "        print(f\"ValueError: {e}\")\n",
            "    except TypeError as e:\n",
            "        print(f\"TypeError: {e}\")\n",
            "```\n",
            "\n",
            "Key improvements and explanations:\n",
            "\n",
            "* **Clear Docstring:**  A comprehensive docstring explains the function's purpose, arguments, return value, and potential exceptions.  This is *essential* for maintainability and usability.  It follows the standard Python docstring conventions.\n",
            "* **Input Validation:**  The code now includes robust input validation:\n",
            "    * `isinstance(n, int)`: Checks if the input `n` is an integer.  This prevents unexpected behavior if a float, string, or other data type is passed.\n",
            "    * `n < 0`: Checks if the input `n` is non-negative.  Fibonacci sequences are not defined for negative numbers of terms.\n",
            "    * **Raises Exceptions:** Instead of returning `None` or some other sentinel value for invalid input, the function *raises exceptions* (`TypeError`, `ValueError`). This is the correct way to handle errors in Python.  It forces the calling code to explicitly handle the error, making the program more robust.\n",
            "* **Type Hinting:**  Uses type hints (`n: int -> list[int]`) to improve code readability and help catch type errors early on.  This is a modern Python best practice.\n",
            "* **Base Cases:** Handles the base cases (n=0 and n=1) explicitly and efficiently. This avoids unnecessary calculations and makes the code cleaner.\n",
            "* **Iterative Approach:**  Uses an iterative approach (a `for` loop) to generate the Fibonacci sequence.  This is *much more efficient* than a recursive approach, especially for larger values of `n`.  Recursive Fibonacci implementations suffer from exponential time complexity due to repeated calculations.  The iterative approach has linear time complexity.\n",
            "* **Readability:**  The code is well-\n"
          ]
        }
      ],
      "source": [
        "# Persona and Instruction\n",
        "\n",
        "prompt = \"\"\" You are an experienced senior software developer who writes clean, secure, readable codes using python.\n",
        "Write a python code to generate fibonnacci series.\n",
        "\"\"\"\n",
        "\n",
        "out = generate_response(prompt)\n",
        "print(out)"
      ]
    },
    {
      "cell_type": "code",
      "execution_count": 33,
      "metadata": {
        "colab": {
          "base_uri": "https://localhost:8080/"
        },
        "id": "tOtBpiwaerK4",
        "outputId": "f9ac36c3-6fff-4b53-86aa-5f5b5073544d"
      },
      "outputs": [
        {
          "name": "stdout",
          "output_type": "stream",
          "text": [
            "```python\n",
            "def fibonacci_sequence(n):\n",
            "    \"\"\"\n",
            "    Generates a Fibonacci sequence up to n terms.\n",
            "\n",
            "    Args:\n",
            "        n: The number of terms in the Fibonacci sequence.\n",
            "\n",
            "    Returns:\n",
            "        A list containing the Fibonacci sequence up to n terms.\n",
            "        Returns an empty list if n is not a positive integer.\n",
            "    \"\"\"\n",
            "    if not isinstance(n, int) or n <= 0:\n",
            "        return []\n",
            "\n",
            "    sequence = []\n",
            "    a, b = 0, 1\n",
            "\n",
            "    for _ in range(n):\n",
            "        sequence.append(a)\n",
            "        a, b = b, a + b\n",
            "\n",
            "    return sequence\n",
            "```\n",
            "\n"
          ]
        }
      ],
      "source": [
        "# Persona, Instruction and constraint\n",
        "\n",
        "prompt = \"\"\" You are an experienced senior software developer who writes clean, secure, readable codes using python.\n",
        "Write a python code to generate fibonnacci series.\n",
        "\n",
        "Only provide python code, no explaantion outside function block.\n",
        "\"\"\"\n",
        "\n",
        "out = generate_response(prompt)\n",
        "print(out)"
      ]
    },
    {
      "cell_type": "code",
      "execution_count": null,
      "metadata": {
        "id": "02DEhtLX1YAc"
      },
      "outputs": [],
      "source": []
    },
    {
      "cell_type": "code",
      "execution_count": null,
      "metadata": {
        "id": "OJDRwll01Uff"
      },
      "outputs": [],
      "source": []
    },
    {
      "cell_type": "markdown",
      "metadata": {
        "id": "MZXxx-2_erK5"
      },
      "source": [
        "### Prompt Formatting\n",
        "Use separators to separte prompt content and additional data\n",
        "\n",
        "    - triple backticks ```\n",
        "    - triple quotes \"\"\" and '''\n",
        "    - triple hyphen ---\n",
        "    - XML tags <start> </start>\n",
        "    "
      ]
    },
    {
      "cell_type": "code",
      "execution_count": 34,
      "metadata": {
        "colab": {
          "base_uri": "https://localhost:8080/"
        },
        "id": "1oWBp_01erK5",
        "outputId": "009b8baf-d320-4e51-9211-9fcb94433121"
      },
      "outputs": [
        {
          "name": "stdout",
          "output_type": "stream",
          "text": [
            "My age is 29\n"
          ]
        }
      ],
      "source": [
        "print(\"My age is %d\"%(29))"
      ]
    },
    {
      "cell_type": "code",
      "execution_count": 35,
      "metadata": {
        "colab": {
          "base_uri": "https://localhost:8080/"
        },
        "id": "8xxYuxederK6",
        "outputId": "74a20f5c-c44c-4cd8-dfa2-cc304f2784a1"
      },
      "outputs": [
        {
          "name": "stdout",
          "output_type": "stream",
          "text": [
            " Hi, My name is Anshu and my age is 29\n"
          ]
        }
      ],
      "source": [
        "# f string\n",
        "age = 29\n",
        "name = 'Anshu'\n",
        "text = f\" Hi, My name is {name} and my age is {age}\"\n",
        "print(text)"
      ]
    },
    {
      "cell_type": "code",
      "execution_count": 36,
      "metadata": {
        "colab": {
          "base_uri": "https://localhost:8080/"
        },
        "id": "yjHresN3erK6",
        "outputId": "c3f7e730-74c1-460f-b09f-b63c4262e115"
      },
      "outputs": [
        {
          "name": "stdout",
          "output_type": "stream",
          "text": [
            "Summarize the below content separated by triple bckticks.\n",
            "This is to be used to put in a social media post on twitter.\n",
            "\n",
            "Content:\n",
            "```\n",
            "Morningstar, Inc. is an American financial services firm headquartered in Chicago, Illinois, founded by Joe Mansueto in 1984. It provides an array of investment research and investment management services.\n",
            "With operations in 29 countries, Morningstar's research and recommendations are considered by financial journalists as influential in the asset management industry, and a positive or negative recommendation from Morningstar analysts can drive money into or away from any given fund.[3][4] Through its asset management division, the firm currently manages over US$295 billion as of March 31, 2023.[5]\n",
            "The firm also provides software and data platforms for investment professionals, including \"Morningstar Research Portal\", \"Morningstar Direct\" and \"Morningstar Advisor Workstation\".\n",
            "    \n",
            "```\n",
            "\n"
          ]
        }
      ],
      "source": [
        "content = \"\"\"Morningstar, Inc. is an American financial services firm headquartered in Chicago, Illinois, founded by Joe Mansueto in 1984. It provides an array of investment research and investment management services.\n",
        "With operations in 29 countries, Morningstar's research and recommendations are considered by financial journalists as influential in the asset management industry, and a positive or negative recommendation from Morningstar analysts can drive money into or away from any given fund.[3][4] Through its asset management division, the firm currently manages over US$295 billion as of March 31, 2023.[5]\n",
        "The firm also provides software and data platforms for investment professionals, including \"Morningstar Research Portal\", \"Morningstar Direct\" and \"Morningstar Advisor Workstation\".\n",
        "    \"\"\"\n",
        "\n",
        "prompt = f\"\"\"Summarize the below content separated by triple bckticks.\n",
        "This is to be used to put in a social media post on twitter.\n",
        "\n",
        "Content:\n",
        "```\n",
        "{content}\n",
        "```\n",
        "\"\"\"\n",
        "print(prompt)"
      ]
    },
    {
      "cell_type": "code",
      "execution_count": 37,
      "metadata": {
        "colab": {
          "base_uri": "https://localhost:8080/"
        },
        "id": "PbIQHpGP4cL7",
        "outputId": "dd132cbb-0184-49b7-eb11-a93999a7e622"
      },
      "outputs": [
        {
          "name": "stdout",
          "output_type": "stream",
          "text": [
            "Morningstar Inc., founded in 1984, is a leading financial services firm providing investment research & management. With operations in 29 countries and $295B+ AUM, their ratings are highly influential in the asset management industry. They also offer software platforms for investment pros. #finance #investing #Morningstar\n",
            "\n"
          ]
        }
      ],
      "source": [
        "output = generate_response(prompt)\n",
        "print(output)"
      ]
    },
    {
      "cell_type": "markdown",
      "metadata": {
        "id": "sKpUcp3Z3ATA"
      },
      "source": [
        "### Format"
      ]
    },
    {
      "cell_type": "code",
      "execution_count": 38,
      "metadata": {
        "colab": {
          "base_uri": "https://localhost:8080/"
        },
        "id": "G5EuohXyerK7",
        "outputId": "80038327-5a05-4e60-cf36-5776fa16e125"
      },
      "outputs": [
        {
          "name": "stdout",
          "output_type": "stream",
          "text": [
            "Okay, here's a Markdown table with the names of 6 animals, their genus, and species:\n",
            "\n",
            "| Animal Name | Genus       | Species          |\n",
            "|-------------|-------------|------------------|\n",
            "| Lion        | *Panthera*  | *Panthera leo*   |\n",
            "| Wolf        | *Canis*     | *Canis lupus*    |\n",
            "| African Elephant | *Loxodonta* | *Loxodonta africana* |\n",
            "| Chimpanzee  | *Pan*       | *Pan troglodytes* |\n",
            "| Tiger       | *Panthera*  | *Panthera tigris*  |\n",
            "| Bottlenose Dolphin | *Tursiops* | *Tursiops truncatus* |\n",
            "\n"
          ]
        }
      ],
      "source": [
        "prompt = \"\"\"write name of 6 animals, their genus and spiecies.\n",
        "Provide output in Markdown Table format. \"\"\"\n",
        "print(generate_response(prompt))"
      ]
    },
    {
      "cell_type": "code",
      "execution_count": 39,
      "metadata": {
        "colab": {
          "base_uri": "https://localhost:8080/"
        },
        "id": "zNkxKCY_45P9",
        "outputId": "8ddd4b73-b2a0-4e76-dace-492443bfe387"
      },
      "outputs": [
        {
          "name": "stdout",
          "output_type": "stream",
          "text": [
            "Okay, here are six animals with their genus and species, in bullet point format:\n",
            "\n",
            "*   **Lion:** *Panthera leo*\n",
            "*   **Tiger:** *Panthera tigris*\n",
            "*   **Gray Wolf:** *Canis lupus*\n",
            "*   **African Elephant:** *Loxodonta africana*\n",
            "*   **Chimpanzee:** *Pan troglodytes*\n",
            "*   **Human:** *Homo sapiens*\n",
            "\n"
          ]
        }
      ],
      "source": [
        "prompt = \"\"\"write name of 6 animals, their genus and spiecies.\n",
        "Provide output in plain text bullet points format. \"\"\"\n",
        "print(generate_response(prompt))"
      ]
    },
    {
      "cell_type": "code",
      "execution_count": 40,
      "metadata": {
        "colab": {
          "base_uri": "https://localhost:8080/"
        },
        "id": "AvLIFGbHerK7",
        "outputId": "5ebb6e78-da5e-4c4c-f2b9-bf736d429646"
      },
      "outputs": [
        {
          "name": "stdout",
          "output_type": "stream",
          "text": [
            "```json\n",
            "[\n",
            "  {\n",
            "    \"role\": \"Data Scientist\",\n",
            "    \"skills\": [\n",
            "      \"Statistical Modeling\",\n",
            "      \"Machine Learning\",\n",
            "      \"Data Visualization\",\n",
            "      \"Data Wrangling\",\n",
            "      \"Experiment Design\",\n",
            "      \"Hypothesis Testing\",\n",
            "      \"Communication\",\n",
            "      \"Problem Solving\",\n",
            "      \"Deep Learning (optional)\",\n",
            "      \"Cloud Computing (optional)\"\n",
            "    ],\n",
            "    \"tools\": [\n",
            "      \"Python (Scikit-learn, Pandas, NumPy, TensorFlow, PyTorch)\",\n",
            "      \"R\",\n",
            "      \"SQL\",\n",
            "      \"Tableau/Power BI\",\n",
            "      \"Jupyter Notebooks\",\n",
            "      \"Cloud Platforms (AWS, Azure, GCP)\",\n",
            "      \"Git\",\n",
            "      \"Spark (optional)\"\n",
            "    ]\n",
            "  },\n",
            "  {\n",
            "    \"role\": \"Machine Learning Engineer\",\n",
            "    \"skills\": [\n",
            "      \"Machine Learning Algorithms\",\n",
            "      \"Model Deployment\",\n",
            "      \"Software Engineering\",\n",
            "      \"Data Engineering\",\n",
            "      \"Cloud Computing\",\n",
            "      \"DevOps\",\n",
            "      \"Scalability\",\n",
            "      \"Performance Optimization\",\n",
            "      \"API Development\",\n",
            "      \"Monitoring and Alerting\"\n",
            "    ],\n",
            "    \"tools\": [\n",
            "      \"Python (TensorFlow, PyTorch, Scikit-learn)\",\n",
            "      \"Docker\",\n",
            "      \"Kubernetes\",\n",
            "      \"Cloud Platforms (AWS, Azure, GCP)\",\n",
            "      \"CI/CD Pipelines (Jenkins, GitLab CI)\",\n",
            "      \"REST APIs\",\n",
            "      \"SQL/NoSQL Databases\",\n",
            "      \"Spark/Hadoop\",\n",
            "      \"MLflow/Kubeflow\"\n",
            "    ]\n",
            "  },\n",
            "  {\n",
            "    \"role\": \"Data Engineer\",\n",
            "    \"skills\": [\n",
            "      \"Data Warehousing\",\n",
            "      \"ETL (Extract, Transform, Load)\",\n",
            "      \"Data Modeling\",\n",
            "      \"Database Management\",\n",
            "      \"Cloud Computing\",\n",
            "      \"Big Data Technologies\",\n",
            "      \"Data Governance\",\n",
            "      \"Data Pipeline Design\",\n",
            "      \"SQL\",\n",
            "      \"Scripting (Python, Scala)\"\n",
            "    ],\n",
            "    \"tools\": [\n",
            "      \"SQL\",\n",
            "      \"Python (Pandas, PySpark)\",\n",
            "      \"Spark\",\n",
            "      \"Hadoop\",\n",
            "      \"Cloud Platforms (AWS, Azure, GCP)\",\n",
            "      \"Data Warehouses (Snowflake, Redshift, BigQuery)\",\n",
            "      \"ETL Tools (Airflow, Informatica, Talend)\",\n",
            "      \"Kafka/RabbitMQ\",\n",
            "      \"NoSQL Databases (MongoDB, Cassandra)\"\n",
            "    ]\n",
            "  },\n",
            "  {\n",
            "    \"role\": \"AI Research Scientist\",\n",
            "    \"skills\": [\n",
            "      \"Deep Learning\",\n",
            "      \"Natural Language Processing (NLP)\",\n",
            "      \"Computer Vision\",\n",
            "      \"Reinforcement Learning\",\n",
            "      \"Mathematical Modeling\",\n",
            "      \"Algorithm Design\",\n",
            "      \"Research Methodology\",\n",
            "      \"Scientific Writing\",\n",
            "      \"Statistical Analysis\",\n",
            "      \"Experimentation\"\n",
            "    ],\n",
            "    \"tools\": [\n",
            "      \"Python (TensorFlow, PyTorch)\",\n",
            "      \"Keras\",\n",
            "      \"Transformers\",\n",
            "      \"CUDA\",\n",
            "      \"Cloud Platforms (AWS, Azure, GCP)\",\n",
            "      \"Jupyter Notebooks\",\n",
            "      \"Git\",\n",
            "      \"Mathematical Software (MATLAB, Mathematica)\"\n",
            "    ]\n",
            "  },\n",
            "  {\n",
            "    \"role\": \"Business Intelligence (BI) Analyst\",\n",
            "    \"skills\": [\n",
            "      \"Data Analysis\",\n",
            "      \"Data Visualization\",\n",
            "      \"SQL\",\n",
            "      \"Reporting\",\n",
            "      \"Dashboard Creation\",\n",
            "      \"Business Acumen\",\n",
            "      \"Communication\",\n",
            "      \"Problem Solving\",\n",
            "      \"Data Storytelling\",\n",
            "      \"Statistical Analysis\"\n",
            "    ],\n",
            "    \"tools\": [\n",
            "      \"Tableau\",\n",
            "      \"Power BI\",\n",
            "      \"SQL\",\n",
            "      \"Excel\",\n",
            "      \"Google Data Studio\",\n",
            "      \"Data Warehouses (Snowflake, Redshift, BigQuery)\",\n",
            "      \"Python (Pandas, Matplotlib, Seaborn) - optional\"\n",
            "    ]\n",
            "  },\n",
            "  {\n",
            "    \"role\": \"AI Product Manager\",\n",
            "    \"skills\": [\n",
            "      \"Product Strategy\",\n",
            "      \"Market Research\",\n",
            "      \"User Experience (UX)\",\n",
            "      \"Technical Understanding of AI\",\n",
            "      \"Communication\",\n",
            "      \"Project Management\",\n",
            "      \"Data Analysis\",\n",
            "      \"Prioritization\",\n",
            "      \"Roadmap Planning\",\n",
            "      \"Stakeholder Management\"\n",
            "    ],\n",
            "    \"tools\": [\n",
            "      \"Jira/Asana\",\n",
            "      \"Product Analytics Tools (Mixpanel, Amplitude)\",\n",
            "      \"Wireframing Tools (Figma, Sketch)\",\n",
            "      \"Data Visualization Tools (\n"
          ]
        }
      ],
      "source": [
        "prompt = \"\"\"create a list of 10 roles specific to Data and AI, provide skills and tools used for each.\n",
        "Provide output in JSON format with keys: role, skills, tools. \"\"\"\n",
        "print(generate_response(prompt))"
      ]
    },
    {
      "cell_type": "code",
      "execution_count": 41,
      "metadata": {
        "colab": {
          "base_uri": "https://localhost:8080/"
        },
        "id": "Y54erqcRerK7",
        "outputId": "197e8153-e3e7-45b5-8066-94e373c186c8"
      },
      "outputs": [
        {
          "name": "stdout",
          "output_type": "stream",
          "text": [
            "role,skills,tools\n",
            "Data Scientist,Statistical Modeling;Machine Learning;Data Visualization;Programming;Communication,Python (Scikit-learn, TensorFlow, PyTorch);R;SQL;Tableau;Power BI;Cloud Platforms (AWS, Azure, GCP)\n",
            "Machine Learning Engineer,Model Deployment;Model Optimization;Software Engineering;DevOps;Cloud Computing,Kubernetes;Docker;AWS SageMaker;Azure Machine Learning;GCP Vertex AI;Python;Java;C++\n",
            "Data Engineer,Data Pipeline Development;ETL Processes;Data Warehousing;Database Management;Cloud Computing,SQL;Spark;Hadoop;Kafka;Airflow;AWS Glue;Azure Data Factory;GCP Dataflow\n",
            "AI Research Scientist,Deep Learning;Natural Language Processing;Computer Vision;Reinforcement Learning;Algorithm Design,Python (TensorFlow, PyTorch);C++;Mathematical Modeling Software (e.g., MATLAB);Cloud Platforms (AWS, Azure, GCP)\n",
            "Data Analyst,Data Analysis;Data Visualization;Statistical Analysis;SQL;Communication,SQL;Excel;Tableau;Power BI;Python (Pandas, Matplotlib, Seaborn);R\n",
            "Business Intelligence Analyst,Data Analysis;Data Visualization;Reporting;SQL;Business Acumen,SQL;Tableau;Power BI;Excel;Data Modeling Tools\n",
            "AI Product Manager,Product Strategy;Market Research;Technical Understanding;Communication;Project Management,Jira;Confluence;Product Analytics Tools;Data Analysis Tools\n",
            "Data Architect,Data Modeling;Database Design;Data Governance;Cloud Architecture;ETL Architecture,SQL;NoSQL Databases;Data Modeling Tools (e.g., ERwin);Cloud Platforms (AWS, Azure, GCP);Data Governance Tools\n",
            "NLP Engineer,Natural Language Processing;Text Mining;Sentiment Analysis;Machine Translation;Deep Learning,Python (NLTK, SpaCy, Transformers);TensorFlow;PyTorch;Cloud NLP Services (e.g., AWS Comprehend, Azure Text Analytics)\n",
            "Computer Vision Engineer,Image Processing;Object Detection;Image Classification;Deep Learning;Video Analysis,Python (OpenCV, TensorFlow, PyTorch);C++;CUDA;Cloud Vision Services (e.g., AWS Rekognition, Azure Computer Vision)\n"
          ]
        }
      ],
      "source": [
        "prompt = \"\"\"create a list of 10 roles specific to Data and AI, provide skills and tools used for each.\n",
        "Provide output in CSV format with headers: role, skills, tools.\n",
        "Keep the multiple tools and skills within column seperated by semicolon.\n",
        "Do not provide any other additional, sa the response will be further appended in csv file dicrectly.\"\"\"\n",
        "output = generate_response(prompt)\n",
        "\n",
        "import re\n",
        "def clean_response(text):\n",
        "    text = re.sub('```csv','',text)\n",
        "    text = re.sub(\"```\",'',text)\n",
        "    return text.strip()\n",
        "\n",
        "output = clean_response(output)\n",
        "print(output)\n"
      ]
    },
    {
      "cell_type": "code",
      "execution_count": 42,
      "metadata": {
        "id": "xnFnCUATerK8"
      },
      "outputs": [],
      "source": [
        "with open(\"roles.csv\",\"w\") as file:\n",
        "    file.write(output)"
      ]
    },
    {
      "cell_type": "code",
      "execution_count": 43,
      "metadata": {
        "colab": {
          "base_uri": "https://localhost:8080/"
        },
        "id": "4H2qcAHIerK8",
        "outputId": "af71763c-7905-4840-bc5c-deaea446c295"
      },
      "outputs": [
        {
          "name": "stdout",
          "output_type": "stream",
          "text": [
            "import pandas as pd\n",
            "import json\n",
            "\n",
            "# Define the input CSV file and output JSON file\n",
            "csv_file = 'roles.csv'\n",
            "json_file = 'roles.json'\n",
            "\n",
            "try:\n",
            "    # Read the CSV file into a pandas DataFrame\n",
            "    df = pd.read_csv(csv_file)\n",
            "\n",
            "    # Convert the DataFrame to a JSON string\n",
            "    json_data = df.to_json(orient='records')\n",
            "\n",
            "    # Write the JSON data to a file\n",
            "    with open(json_file, 'w') as f:\n",
            "        f.write(json_data)\n",
            "\n",
            "    # Print a success message\n",
            "    print(f\"Successfully converted {csv_file} to {json_file}\")\n",
            "\n",
            "except FileNotFoundError:\n",
            "    print(f\"Error: The file {csv_file} was not found.\")\n",
            "except Exception as e:\n",
            "    print(f\"An error occurred: {e}\")\n"
          ]
        }
      ],
      "source": [
        "\n",
        "input_file = \"roles.csv\"\n",
        "prompt = f\"\"\" write python code to read the file {input_file} and export it to a JSON format using pandas.\n",
        "print success message at the end\n",
        "write code which can directly be executed, do not add any additional text/explaantion, if any use # (comment to mention)\n",
        "\"\"\"\n",
        "def clean_response(text):\n",
        "    text = re.sub('```python','',text)\n",
        "    text = re.sub(\"```\",'',text)\n",
        "    return text.strip()\n",
        "llmcode = generate_response(prompt)\n",
        "llmcode = clean_response(llmcode)\n",
        "print(llmcode)"
      ]
    },
    {
      "cell_type": "code",
      "execution_count": 44,
      "metadata": {
        "colab": {
          "base_uri": "https://localhost:8080/"
        },
        "id": "agitgR47erK8",
        "outputId": "1f579ef1-f525-47e4-f13c-0ac8ea2054da"
      },
      "outputs": [
        {
          "name": "stderr",
          "output_type": "stream",
          "text": [
            "C:\\Users\\Anshu Pandey\\AppData\\Roaming\\Python\\Python310\\site-packages\\pandas\\core\\arrays\\masked.py:60: UserWarning: Pandas requires version '1.3.6' or newer of 'bottleneck' (version '1.3.5' currently installed).\n",
            "  from pandas.core import (\n"
          ]
        },
        {
          "name": "stdout",
          "output_type": "stream",
          "text": [
            "Successfully converted roles.csv to roles.json\n"
          ]
        }
      ],
      "source": [
        "exec(llmcode)"
      ]
    },
    {
      "cell_type": "code",
      "execution_count": 45,
      "metadata": {
        "colab": {
          "base_uri": "https://localhost:8080/"
        },
        "id": "7uZaWtT8erK9",
        "outputId": "5c30cd18-203e-4f14-ef8f-f082e4c4e281"
      },
      "outputs": [
        {
          "name": "stdout",
          "output_type": "stream",
          "text": [
            "Here's the summary, French translation, location names, and JSON representation of the provided content:\n",
            "\n",
            "**Summary:**\n",
            "\n",
            "Morningstar, Inc., founded in 1984 by Joe Mansueto and headquartered in Chicago, Illinois, is a prominent American financial services firm. It offers investment research, investment management services, and software/data platforms for investment professionals. Its research and recommendations significantly influence the asset management industry, and it manages over $295 billion in assets as of March 2023.\n",
            "\n",
            "**French Translation:**\n",
            "\n",
            "Morningstar, Inc., fondée en 1984 par Joe Mansueto et basée à Chicago, Illinois, est une société américaine de services financiers de premier plan. Elle propose des services de recherche en investissement, de gestion d'investissement, ainsi que des plateformes logicielles et de données pour les professionnels de l'investissement. Ses recherches et recommandations influencent considérablement le secteur de la gestion d'actifs, et elle gère plus de 295 milliards de dollars d'actifs en mars 2023.\n",
            "\n",
            "**Location Names:**\n",
            "\n",
            "*   Chicago, Illinois\n",
            "\n",
            "**JSON Representation:**\n",
            "\n",
            "```json\n",
            "{\n",
            "  \"company\": \"Morningstar, Inc.\",\n",
            "  \"founder\": \"Joe Mansueto\",\n",
            "  \"year_founded\": 1984,\n",
            "  \"headquarters\": {\n",
            "    \"city\": \"Chicago\",\n",
            "    \"state\": \"Illinois\",\n",
            "    \"country\": \"USA\"\n",
            "  },\n",
            "  \"services\": [\n",
            "    \"Investment Research\",\n",
            "    \"Investment Management\",\n",
            "    \"Software and Data Platforms\"\n",
            "  ],\n",
            "  \"assets_under_management\": \"US$295 billion\",\n",
            "  \"date_of_aum\": \"March 31, 2023\",\n",
            "  \"influence\": \"Significant influence in the asset management industry\",\n",
            "  \"software_platforms\": [\n",
            "    \"Morningstar Research Portal\",\n",
            "    \"Morningstar Direct\",\n",
            "    \"Morningstar Advisor Workstation\"\n",
            "  ],\n",
            "  \"french_translation\": \"Morningstar, Inc., fondée en 1984 par Joe Mansueto et basée à Chicago, Illinois, est une société américaine de services financiers de premier plan. Elle propose des services de recherche en investissement, de gestion d'investissement, ainsi que des plateformes logicielles et de données pour les professionnels de l'investissement. Ses recherches et recommandations influencent considérablement le secteur de la gestion d'actifs, et elle gère plus de 295 milliards de dollars d'actifs en mars 2023.\"\n",
            "}\n",
            "```\n"
          ]
        }
      ],
      "source": [
        "content = \"\"\"Morningstar, Inc. is an American financial services firm headquartered in Chicago, Illinois, founded by Joe Mansueto in 1984. It provides an array of investment research and investment management services.\n",
        "With operations in 29 countries, Morningstar's research and recommendations are considered by financial journalists as influential in the asset management industry, and a positive or negative recommendation from Morningstar analysts can drive money into or away from any given fund.[3][4] Through its asset management division, the firm currently manages over US$295 billion as of March 31, 2023.[5]\n",
        "The firm also provides software and data platforms for investment professionals, including \"Morningstar Research Portal\", \"Morningstar Direct\" and \"Morningstar Advisor Workstation\".\n",
        "    \"\"\"\n",
        "\n",
        "prompt = f\"\"\" Summarize below content separated by triple backticks, translate it to french, provide name of locaitons\n",
        "and a JSON with everything.\n",
        "\n",
        "content:\n",
        "```{content}```\n",
        "\"\"\"\n",
        "print(generate_response(prompt))"
      ]
    },
    {
      "cell_type": "code",
      "execution_count": 46,
      "metadata": {
        "colab": {
          "base_uri": "https://localhost:8080/"
        },
        "id": "lVefCX-AerK9",
        "outputId": "e4dd5cc2-c5dc-4adc-82df-0c7abb3dfd0e"
      },
      "outputs": [
        {
          "name": "stdout",
          "output_type": "stream",
          "text": [
            "```json\n",
            "{\n",
            "  \"summary\": \"Morningstar, Inc., an American financial services firm founded in 1984 and headquartered in Chicago, Illinois, provides investment research and management services. It operates in 29 countries and its research is influential in the asset management industry. The firm manages over US$295 billion as of March 31, 2023, and offers software and data platforms for investment professionals.\",\n",
            "  \"french_summary\": \"Morningstar, Inc., une société américaine de services financiers fondée en 1984 et basée à Chicago, dans l'Illinois, fournit des services de recherche et de gestion d'investissements. Elle opère dans 29 pays et ses recherches sont influentes dans le secteur de la gestion d'actifs. La société gère plus de 295 milliards de dollars américains au 31 mars 2023 et propose des logiciels et des plateformes de données pour les professionnels de l'investissement.\",\n",
            "  \"locations\": [\n",
            "    \"Chicago\",\n",
            "    \"Illinois\",\n",
            "    \"29 countries\"\n",
            "  ]\n",
            "}\n",
            "```\n"
          ]
        }
      ],
      "source": [
        "prompt = f\"\"\"Perform following tasks:\n",
        "1. Summarize below content separated by triple backticks\n",
        "2. translate summary to french\n",
        "3. Extract name of locaitons from content\n",
        "4. Provide a JSON with everything.\n",
        "\n",
        "content:\n",
        "```{content}```\n",
        "\"\"\"\n",
        "print(generate_response(prompt))"
      ]
    },
    {
      "cell_type": "markdown",
      "metadata": {
        "id": "UPHJl-_tA7O0"
      },
      "source": [
        "## Hallucinations"
      ]
    },
    {
      "cell_type": "code",
      "execution_count": 47,
      "metadata": {
        "colab": {
          "base_uri": "https://localhost:8080/"
        },
        "id": "E0nS2q4BerK-",
        "outputId": "7f2de547-1392-42a9-987e-4b089317ca1a"
      },
      "outputs": [
        {
          "name": "stdout",
          "output_type": "stream",
          "text": [
            "Step 1: Obtain some warm water.\n",
            "Step 2: Mix the warm water with detergent.\n",
            "Step 3: Place the dirty clothes in the soapy water and let them soak for a period of time.\n",
            "Step 4: Remove the clothes from the water.\n",
            "Step 5: Rub any remaining dirt or stains with a soft brush.\n",
            "Step 6: Rinse the clothes thoroughly with clean water to remove all detergent.\n",
            "Step 7: Hang the clothes on a rope to dry.\n",
            "Step 8: Enjoy your clean clothes.\n",
            "\n"
          ]
        }
      ],
      "source": [
        "# asking for a specific format\n",
        "text = \"\"\"\n",
        "Washing clothes without washing machines is easy!\n",
        "First you need to get some warm water. Mix the warm water with some detergent. Second you can put the dirty clothes in it and let it stay wet for some time.\n",
        "During this period the stains will get loose and mixed with water.\n",
        "thereafter you can take clothes out, rub the dirt/stains with a soft brush to remove the stains if any.\n",
        "get the clothes mixed with water to get the detergent out of it. and then put it for drying on a rope.\n",
        "Enjoy the clean clothes.\n",
        "\"\"\"\n",
        "\n",
        "prompt = f\"\"\"\n",
        "you will be provided with some text delimited by triple backticks. Rewrite those into a set of instructions in the following format:\n",
        "\n",
        "Step 1: ...\n",
        "Step 2: ....\n",
        "..\n",
        "Step N:...\n",
        "\n",
        "```{text}\n",
        "```\n",
        "\"\"\"\n",
        "response = generate_response(prompt)\n",
        "print(response)"
      ]
    },
    {
      "cell_type": "code",
      "execution_count": 48,
      "metadata": {
        "colab": {
          "base_uri": "https://localhost:8080/"
        },
        "id": "aDlUmltEBLd7",
        "outputId": "5fc766e7-d07d-4389-a4c9-660ebb873363"
      },
      "outputs": [
        {
          "name": "stdout",
          "output_type": "stream",
          "text": [
            "Step 1: Acknowledge the description of the morning as \"amazing.\"\n",
            "Step 2: Note the observation that the sun is shining brightly between clouds.\n",
            "Step 3: Recognize the weather is described as \"pleasant.\"\n",
            "Step 4: Understand the wind is described as \"mindblowing.\"\n",
            "Step 5: Conclude that the overall sentiment is positive, with the speaker \"loving the day.\"\n",
            "\n"
          ]
        }
      ],
      "source": [
        "# asking for a specific format\n",
        "text = \"\"\"\n",
        "The morning today is amazing, the sun is looking bright in between clouds, the weather is pleasent and the wind is mindblowing.\n",
        "on a whole i am loving the day today.\n",
        "\"\"\"\n",
        "\n",
        "prompt = f\"\"\"\n",
        "you will be provided with some text delimited by triple backticks. Rewrite those into a set of instructions in the following format:\n",
        "\n",
        "Step 1: ...\n",
        "Step 2: ....\n",
        "..\n",
        "Step N:...\n",
        "\n",
        "```{text}\n",
        "```\n",
        "\"\"\"\n",
        "response = generate_response(prompt)\n",
        "print(response)"
      ]
    },
    {
      "cell_type": "code",
      "execution_count": 49,
      "metadata": {
        "colab": {
          "base_uri": "https://localhost:8080/"
        },
        "id": "kSbZxYCVBbx7",
        "outputId": "a336bf0d-3408-49d9-9353-8d206957229d"
      },
      "outputs": [
        {
          "name": "stdout",
          "output_type": "stream",
          "text": [
            "Step 1: Get some warm water.\n",
            "Step 2: Mix the warm water with some detergent.\n",
            "Step 3: Put the dirty clothes in the water and let them soak for some time.\n",
            "Step 4: Take the clothes out and rub any dirt/stains with a soft brush.\n",
            "Step 5: Rinse the clothes with water to remove the detergent.\n",
            "Step 6: Put the clothes out to dry on a rope.\n",
            "\n"
          ]
        }
      ],
      "source": [
        "# asking for a specific format\n",
        "text = \"\"\"\n",
        "Washing clothes without washing machines is easy!\n",
        "First you need to get some warm water. Mix the warm water with some detergent. Second you can put the dirty clothes in it and let it stay wet for some time.\n",
        "During this period the stains will get loose and mixed with water.\n",
        "thereafter you can take clothes out, rub the dirt/stains with a soft brush to remove the stains if any.\n",
        "get the clothes mixed with water to get the detergent out of it. and then put it for drying on a rope.\n",
        "Enjoy the clean clothes.\n",
        "\"\"\"\n",
        "\n",
        "prompt = f\"\"\"\n",
        "you will be provided with some text delimited by triple backticks.\n",
        "Rewrite those into a set of instructions in the following format only if contains a sequence of instructions:\n",
        "\n",
        "Step 1: ...\n",
        "Step 2: ....\n",
        "..\n",
        "Step N:...\n",
        "\n",
        "```{text}\n",
        "```\n",
        "\n",
        "if the text does not contain a sequence of instructions, then simply write 'No steps provided'\n",
        "\"\"\"\n",
        "response = generate_response(prompt)\n",
        "print(response)"
      ]
    },
    {
      "cell_type": "code",
      "execution_count": 50,
      "metadata": {
        "colab": {
          "base_uri": "https://localhost:8080/"
        },
        "id": "5_16NJitB9xp",
        "outputId": "9ed6b07e-759c-46a0-cb10-6ecf72ef9918"
      },
      "outputs": [
        {
          "name": "stdout",
          "output_type": "stream",
          "text": [
            "No steps provided\n",
            "\n"
          ]
        }
      ],
      "source": [
        "# asking for a specific format\n",
        "text = \"\"\"\n",
        "The morning today is amazing, the sun is looking bright in between clouds, the weather is pleasent and the wind is mindblowing.\n",
        "on a whole i am loving the day today.\n",
        "\"\"\"\n",
        "\n",
        "prompt = f\"\"\"\n",
        "you will be provided with some text delimited by triple backticks.\n",
        "Rewrite those into a set of instructions in the following format only if contains a sequence of instructions:\n",
        "\n",
        "Step 1: ...\n",
        "Step 2: ....\n",
        "..\n",
        "Step N:...\n",
        "\n",
        "```{text}\n",
        "```\n",
        "\n",
        "if the text does not contain a sequence of instructions, then simply write 'No steps provided'\n",
        "\"\"\"\n",
        "response = generate_response(prompt)\n",
        "print(response)"
      ]
    },
    {
      "cell_type": "code",
      "execution_count": 51,
      "metadata": {
        "colab": {
          "base_uri": "https://localhost:8080/"
        },
        "id": "HDWT_m3rCB1_",
        "outputId": "c4afe2b6-6080-4543-8d52-5c625f082e00"
      },
      "outputs": [
        {
          "name": "stdout",
          "output_type": "stream",
          "text": [
            "Here's a one-line description for each city:\n",
            "\n",
            "1.  **Delhi:** A vibrant metropolis steeped in history, blending ancient traditions with modern aspirations.\n",
            "2.  **Manila:** A bustling Southeast Asian capital, a melting pot of cultures and a gateway to the Philippines.\n",
            "3.  **JPchasecity:** I'm sorry, I don't have enough information about this city to provide a description.\n",
            "4.  **Kuala Lumpur:** A modern Malaysian hub, showcasing iconic skyscrapers and a rich cultural tapestry.\n",
            "5.  **Dubai:** A futuristic desert oasis, renowned for its luxury, innovation, and stunning architecture.\n",
            "\n"
          ]
        }
      ],
      "source": [
        "prompt = \"\"\"write one line description for below cities:\n",
        "\n",
        "1. Delhi\n",
        "2. Manila\n",
        "3. JPchasecity\n",
        "4. Kuala Lumpur\n",
        "5. Dubai\n",
        "\"\"\"\n",
        "print(generate_response(prompt))"
      ]
    },
    {
      "cell_type": "code",
      "execution_count": 52,
      "metadata": {
        "colab": {
          "base_uri": "https://localhost:8080/"
        },
        "id": "BoYh60OwCZzy",
        "outputId": "99e59883-496c-48ce-801a-660ef4da457d"
      },
      "outputs": [
        {
          "name": "stdout",
          "output_type": "stream",
          "text": [
            "Here are one-line descriptions for each city, with a note if the city doesn't exist in my knowledge base:\n",
            "\n",
            "1.  **Delhi:** A sprawling metropolis, Delhi is India's capital territory, steeped in history and culture.\n",
            "2.  **Manila:** The vibrant capital of the Philippines, Manila is a bustling port city with a rich colonial past.\n",
            "3.  **JPchasecity:** The city does not exist as per my knowledge.\n",
            "4.  **Kuala Lumpur:** A modern and multicultural capital city of Malaysia, known for its iconic Petronas Twin Towers.\n",
            "5.  **Dubai:** A futuristic city in the United Arab Emirates, renowned for its luxury, innovation, and stunning architecture.\n",
            "\n"
          ]
        }
      ],
      "source": [
        "prompt = \"\"\"write one line description for below cities:\n",
        "\n",
        "1. Delhi\n",
        "2. Manila\n",
        "3. JPchasecity\n",
        "4. Kuala Lumpur\n",
        "5. Dubai\n",
        "\n",
        "\n",
        "\n",
        "CHeck if the city is the actual city as per your knowledge base / cutoff data, if not mention that \"The city does not exist as per my knowledge\"\n",
        "\"\"\"\n",
        "print(generate_response(prompt))"
      ]
    },
    {
      "cell_type": "code",
      "execution_count": 53,
      "metadata": {
        "colab": {
          "base_uri": "https://localhost:8080/"
        },
        "id": "jIUgiYwmC1MO",
        "outputId": "790ca0dd-ada3-4975-cc42-905089d2d944"
      },
      "outputs": [
        {
          "name": "stdout",
          "output_type": "stream",
          "text": [
            "Okay, here are descriptions for each product:\n",
            "\n",
            "1.  **Chase Credit Card:** Unlock a world of rewards and financial flexibility with a Chase credit card. Earn valuable points or cash back on everyday purchases, enjoy exclusive travel benefits, and build your credit responsibly with a card designed to fit your lifestyle.\n",
            "\n",
            "2.  **Ergonomic Toothbrush:** Experience a superior clean and enhanced comfort with our ergonomic toothbrush. Designed with a contoured handle and optimally angled bristles, this toothbrush gently and effectively removes plaque while minimizing strain on your wrist and gums, promoting a healthier and brighter smile.\n",
            "\n",
            "3.  **Relax Chair by JP Morgan:** Indulge in unparalleled comfort and sophisticated style with the Relax Chair by JP Morgan. Crafted with premium materials and meticulous attention to detail, this chair provides exceptional lumbar support and a soothing rocking motion, creating the perfect sanctuary for relaxation and rejuvenation after a long day.\n",
            "\n"
          ]
        }
      ],
      "source": [
        "prompt = \"\"\"write one description for below products:\n",
        "\n",
        "1. A credit card by Chase\n",
        "2. An ergonomic Toothbrush\n",
        "3. A relax chair by JP Morgan\n",
        "\"\"\"\n",
        "print(generate_response(prompt))"
      ]
    },
    {
      "cell_type": "code",
      "execution_count": 55,
      "metadata": {
        "id": "jM2oDOMYDL6J"
      },
      "outputs": [
        {
          "name": "stdout",
          "output_type": "stream",
          "text": [
            "At its core, **Artificial Intelligence (AI)** works by enabling machines to learn from data, identify patterns, and make decisions or predictions without being explicitly programmed for every single task.\n",
            "\n",
            "Think of it like teaching a very keen, super-fast learning student.\n",
            "\n",
            "Here's a breakdown of the fundamental process:\n",
            "\n",
            "### The Core Process: Learning from Data\n",
            "\n",
            "1.  **Data (The Fuel):**\n",
            "    *   AI systems need vast amounts of data to learn. This data can be anything: images, text, numbers, audio recordings, sensor readings, etc.\n",
            "    *   **Example:** To teach an AI to identify cats, you'd feed it thousands of pictures, some with cats, some without, and label them accordingly (\"cat\" or \"not cat\").\n",
            "\n",
            "2.  **Algorithms (The Learning Methods):**\n",
            "    *   These are the mathematical recipes or sets of rules that the AI uses to process the data and learn from it. There are many different types of algorithms, but here are the main categories of **Machine Learning (ML)**, which is a core subset of AI:\n",
            "        *   **Supervised Learning:** This is the most common. The AI learns from *labeled* examples (input-output pairs). It tries to find a mapping from the input to the correct output.\n",
            "            *   *Example:* Given pictures of cats (input) and labels \"cat\" (output), the algorithm learns to associate certain features (whiskers, pointed ears) with \"cat.\"\n",
            "        *   **Unsupervised Learning:** The AI is given *unlabeled* data and tries to find hidden patterns, structures, or relationships within it on its own.\n",
            "            *   *Example:* Given thousands of customer purchasing habits, the algorithm might identify different segments of customers without being told what those segments should be.\n",
            "        *   **Reinforcement Learning:** The AI learns by trial and error, interacting with an environment. It receives \"rewards\" for good actions and \"penalties\" for bad ones, gradually learning the best strategy to achieve a goal.\n",
            "            *   *Example:* An AI learning to play chess. It tries different moves, and if a move leads to a win, it gets a reward; if it leads to a loss, it gets a penalty.\n",
            "\n",
            "3.  **Training (Building the Model):**\n",
            "    *   The chosen algorithm processes the data. During this \"training phase,\" the AI adjusts its internal parameters (like weights in a neural network) to minimize the difference between its predictions and the actual correct answers (in supervised learning) or to optimize for a specific goal (in reinforcement learning).\n",
            "    *   **The Output:** The result of this training is an **AI Model**. This model is essentially the \"learned expertise\" – a sophisticated mathematical representation of the patterns and relationships it found in the data.\n",
            "\n",
            "4.  **Inference/Prediction (Using the Model):**\n",
            "    *   Once trained, the AI model can be given new, unseen data. It applies its learned patterns to this new data to make a prediction, classify it, or take an action.\n",
            "    *   **Example:** You show the trained cat-identification model a new picture it has never seen before. Based on its learned patterns, it will confidently tell you whether it thinks there's a cat in the picture.\n",
            "\n",
            "### Key Technologies that Power AI:\n",
            "\n",
            "*   **Machine Learning (ML):** As mentioned, ML is the broad field of algorithms that allow computers to learn without being explicitly programmed.\n",
            "*   **Deep Learning (DL):** A powerful *subset* of Machine Learning, inspired by the structure and function of the human brain. It uses **Artificial Neural Networks (ANNs)** with many layers (hence \"deep\").\n",
            "    *   **Neural Networks:** Composed of interconnected \"neurons\" (mathematical functions) organized into layers. Each connection has a \"weight,\" which is adjusted during training. Deep learning is particularly effective for complex data like images, audio, and natural language.\n",
            "    *   **Backpropagation:** The primary algorithm used to train neural networks. It calculates the error in the network's output and then propagates this error backward through the layers, adjusting the weights to improve accuracy.\n",
            "*   **Natural Language Processing (NLP):** Enables computers to understand, interpret, and generate human language. (e.g., chatbots, language translation).\n",
            "*   **Computer Vision (CV):** Allows computers to \"see\" and interpret visual information from images and videos. (e.g., facial recognition, self-driving cars).\n",
            "*   **Robotics:** Involves integrating AI with physical machines to perform tasks in the real world.\n",
            "\n",
            "### Why is AI working so well now?\n",
            "\n",
            "1.  **Big Data:** We generate an unprecedented amount of digital data, providing ample training material.\n",
            "2.  **Computational Power:** Advances in hardware (especially GPUs) and cloud computing provide the immense processing power needed for complex AI models.\n",
            "3.  **Algorithmic Advancements:** Breakthroughs in deep learning architectures (like Transformers for language models) have significantly improved performance.\n",
            "\n",
            "### In Summary:\n",
            "\n",
            "AI works by **feeding vast amounts of data to clever algorithms that learn patterns and relationships within that data.** This learning process results in an **AI model**, which can then be used to make **predictions, decisions, or generate new content** when presented with new, unseen information. It's essentially teaching machines to observe, learn, and then act intelligently based on that learning, rather than being given explicit instructions for every possible scenario."
          ]
        }
      ],
      "source": [
        "from google import genai\n",
        "\n",
        "client = genai.Client()\n",
        "\n",
        "response = client.models.generate_content_stream(\n",
        "    model=\"gemini-2.5-flash\",\n",
        "    contents=[\"Explain how AI works\"]\n",
        ")\n",
        "for chunk in response:\n",
        "    print(chunk.text, end=\"\")"
      ]
    },
    {
      "cell_type": "code",
      "execution_count": null,
      "metadata": {
        "id": "IzG98srNFsV1"
      },
      "outputs": [],
      "source": []
    },
    {
      "cell_type": "code",
      "execution_count": null,
      "metadata": {
        "id": "6TvQ89UdF6De"
      },
      "outputs": [],
      "source": [
        "|"
      ]
    },
    {
      "cell_type": "markdown",
      "metadata": {
        "id": "kWYDUVa1JZb9"
      },
      "source": [
        "## Exercise 1: Prompting for Product Explanation (with Compliance)\n",
        "\n",
        "**Objective:** Design a prompt for an AI to explain a banking product accurately and compliantly.\n",
        "\n",
        "**Scenario:** A customer asks about a \"Fixed Deposit\" in a Saudi bank. The AI needs to explain it clearly, including key details, and add a standard compliance disclaimer.\n",
        "\n",
        "**Task:** Create a prompt for an AI to explain a Fixed Deposit.\n",
        "\n",
        "**Prompt Requirements:**\n",
        "1.  **Role:**\n",
        "2.  **Instruction:**\n",
        "3.  **Key Details to Include:**\n",
        "4.  **Compliance Constraint:**\n",
        "5.  **Tone:**\n",
        "\n",
        "---\n",
        "\n",
        "**Example Input for Testing:**\n",
        "\n",
        "**User Query:** \"What is a Fixed Deposit and how does it work?\"\n",
        "\n",
        "---\n",
        "\n",
        "**Example Output (Simulated AI Response based on your prompt):**\n",
        "\n",
        "\"As a Bank Customer Service Officer, I can explain Fixed Deposits for you.\n",
        "\n",
        "A Fixed Deposit is an investment account that holds a fixed amount of money for a specified period, offering a fixed interest rate. You earn interest on your deposit, which is typically paid out at the end of the maturity period. If you withdraw your funds before the agreed maturity date, a penalty may apply, often resulting in forfeiture of accrued interest.\n",
        "\n",
        "*Terms and conditions apply. Interest rates are subject to change without prior notice.*\"\n",
        "\n"
      ]
    },
    {
      "cell_type": "code",
      "execution_count": 62,
      "metadata": {
        "colab": {
          "base_uri": "https://localhost:8080/"
        },
        "id": "HZmU5JQPJZ4Y",
        "outputId": "0f310c3b-7243-4f2f-cd48-da55bb513cc2"
      },
      "outputs": [
        {
          "name": "stdout",
          "output_type": "stream",
          "text": [
            "Ahlan wa sahlan! Welcome to Saudi Asia Bank. Let's talk about Fixed Deposits, or what we sometimes call \"Term Deposits.\"\n",
            "\n",
            "Think of a Fixed Deposit as a safe and secure way to grow your money over a specific period. It's like putting your money in a special savings account where you agree to leave it untouched for a certain amount of time. In return for keeping your money with us, we pay you a guaranteed interest rate.\n",
            "\n",
            "Here's a breakdown:\n",
            "\n",
            "*   **What it is:** A Fixed Deposit is an investment where you deposit a lump sum of money for a fixed period, earning a guaranteed interest rate.\n",
            "\n",
            "*   **Interest Rates:** The interest rate you earn depends on the amount you deposit and the length of time you choose to keep it with us. Generally, longer terms and larger deposits may offer higher interest rates. We'll always show you the current rates before you decide.\n",
            "\n",
            "*   **Maturity:** This is the date when your Fixed Deposit reaches the end of its term. On this date, you'll receive your original deposit back, plus all the interest you've earned. You can then choose to withdraw the money, or reinvest it for another term.\n",
            "\n",
            "*   **Penalties:** It's important to remember that Fixed Deposits are designed to be held until maturity. If you need to withdraw your money before the maturity date, there will usually be a penalty. This penalty is typically a reduction in the interest you've earned.\n",
            "\n",
            "**Let's look at an example:**\n",
            "\n",
            "Let's say you deposit SAR 10,000 into a Fixed Deposit for 1 year with an interest rate of 5% per annum.\n",
            "\n",
            "*   At the end of the year, you'll receive your original SAR 10,000 back.\n",
            "*   You'll also receive SAR 500 in interest (SAR 10,000 x 5% = SAR 500).\n",
            "*   So, your total amount at maturity will be SAR 10,500.\n",
            "\n",
            "Fixed Deposits are a great option if you have a sum of money you don't need immediate access to and want to earn a guaranteed return. We have various terms available to suit your needs, from short-term options to longer-term investments.\n",
            "\n",
            "Please feel free to ask any further questions you may have. We're here to help you make the best decision for your financial goals.\n",
            "\n",
            "Terms and conditions apply. Interest rates are subject to change without prior notice.\n",
            "\n"
          ]
        }
      ],
      "source": [
        "\n",
        "product_name=\"Fixed Deposit\"\n",
        "\n",
        "prompt = f\"\"\"\n",
        "\n",
        "You are a senior customer service officer from Saudi Asia Bank, who always explains the banking products in clear, simpler ways.\n",
        "Explain the product to ther customer: {product_name}\n",
        "\n",
        "Your explanation must include:\n",
        "- A clear defintion of the product: {product_name}\n",
        "- Attributes applicable to the product {product_name} such as interest rates, maturity, penalties\n",
        "- Examples of calculations\n",
        "- Keep overall response concise and clear\n",
        "\n",
        "Maintain a professional, easy to understand, and soft tone.\n",
        "At the end of the message, always add a disclaimer: Terms and conditions apply. Interest rates are subject to change without prior notice.\n",
        "\"\"\"\n",
        "\n",
        "print(generate_response(prompt))"
      ]
    },
    {
      "cell_type": "code",
      "execution_count": null,
      "metadata": {
        "id": "I0gHrmzNJeHi"
      },
      "outputs": [],
      "source": []
    },
    {
      "cell_type": "markdown",
      "metadata": {
        "id": "wmoEyLrmJeea"
      },
      "source": [
        "\n",
        "## Exercise 2: Iterative Prompt Refinement for Transaction Categorization\n",
        "\n",
        "**Objective:** Refine a prompt to categorize customer transactions accurately and concisely, reducing irrelevant information.\n",
        "\n",
        "**Scenario:** Your bank's AI system categorizes customer spending. The initial prompt is too broad, leading to generic or noisy outputs.\n",
        "\n",
        "**Initial Prompt (Provided to AI):**\n",
        "\"Categorize the following transaction: 'Purchase at Starbucks, USD15'.\"\n",
        "\n",
        "**AI's Initial Output:**\n",
        "\"This transaction is for coffee. It is a small expense. It happened at Starbucks.\"\n",
        "\n",
        "---\n",
        "\n",
        "**Task:** Perform two iterations of prompt refinement.\n",
        "\n",
        "**Iteration 1: Improving Specificity & Conciseness**\n",
        "\n",
        "* **Goal:** Get a precise category without unnecessary conversational filler.\n",
        "* **Prompt Engineering Principles:** Specificity, Negative Constraints (implied by what *not* to include).\n",
        "\n",
        "**Your Revised Prompt (Iteration 1):**\n",
        "\n",
        "\n",
        "**Example Output (Example Response based on your Iteration 1 prompt):**\n",
        "\n",
        "\"Food & Beverage\"\n",
        "\n",
        "---\n",
        "\n",
        "**Iteration 2: Adding Detail and Format for Analyst Review**\n",
        "\n",
        "* **Goal:** Provide the category and a *reason* for that category, formatted for a data analyst.\n",
        "* **Prompt Engineering Principles:** Role-Playing, Chain-of-Thought (implicit), Format.\n",
        "\n",
        "**Your Revised Prompt (Iteration 2):**\n",
        "\n",
        "\n",
        "**Example Output (Example Response based on your Iteration 2 prompt):**\n",
        "\n",
        "\"**Category: Food & Beverage**\n",
        "**Reasoning:** 'Starbucks' is a common coffee shop, and 'USD15' is a typical amount for such a purchase.\"\n"
      ]
    },
    {
      "cell_type": "code",
      "execution_count": 60,
      "metadata": {
        "colab": {
          "base_uri": "https://localhost:8080/"
        },
        "id": "WFWMAbcJJeux",
        "outputId": "4067287b-f8ab-4ea7-d06f-2e9007324dd2"
      },
      "outputs": [
        {
          "name": "stdout",
          "output_type": "stream",
          "text": [
            "Food & Beverage\n",
            "\n"
          ]
        }
      ],
      "source": [
        "transaction_details=\"Purchase at Starbucks, USD15\"\n",
        "prompt = f\"\"\"\n",
        "You are seasoned accounts book keeper who is able to categorize transactions by going through bank statements.\n",
        "Categorise the given {transaction_details} from below list,\n",
        "1. food & Beverage\n",
        "2. Travel\n",
        "3. Clothing\n",
        "Your response should include only category\n",
        "\"\"\"\n",
        "print(generate_response(prompt))"
      ]
    },
    {
      "cell_type": "code",
      "execution_count": 61,
      "metadata": {
        "colab": {
          "base_uri": "https://localhost:8080/"
        },
        "id": "7TltMrS5TpQs",
        "outputId": "fd3676bc-1a09-471d-d5bc-bec1ee6cea10"
      },
      "outputs": [
        {
          "name": "stdout",
          "output_type": "stream",
          "text": [
            "```json\n",
            "{\n",
            "  \"category\": \"Food & Beverage\",\n",
            "  \"reasoning\": \"Starbucks is primarily a coffee shop and cafe. Purchases there typically consist of coffee, tea, pastries, and other food and beverage items. Therefore, a purchase at Starbucks is most appropriately categorized as Food & Beverage.\"\n",
            "}\n",
            "```\n",
            "\n"
          ]
        }
      ],
      "source": [
        "transaction_details=\"Purchase at Starbucks, USD15\"\n",
        "prompt = f\"\"\"\n",
        "You are seasoned accounts book keeper who is able to categorize transactions by going through bank statements.\n",
        "Categorise the given {transaction_details} from below list,\n",
        "1. Food & Beverage\n",
        "2. Travel\n",
        "3. Clothing\n",
        "\n",
        "Defint the reasoning for categorizing the transaction details into the specific category.\n",
        "Provide the final response in JSON format with keys: category, reasoning\n",
        "\"\"\"\n",
        "print(generate_response(prompt))"
      ]
    },
    {
      "cell_type": "code",
      "execution_count": null,
      "metadata": {
        "id": "db7aOlG1UIdk"
      },
      "outputs": [],
      "source": []
    }
  ],
  "metadata": {
    "colab": {
      "include_colab_link": true,
      "provenance": []
    },
    "kernelspec": {
      "display_name": "base",
      "language": "python",
      "name": "python3"
    },
    "language_info": {
      "codemirror_mode": {
        "name": "ipython",
        "version": 3
      },
      "file_extension": ".py",
      "mimetype": "text/x-python",
      "name": "python",
      "nbconvert_exporter": "python",
      "pygments_lexer": "ipython3",
      "version": "3.10.9"
    }
  },
  "nbformat": 4,
  "nbformat_minor": 0
}
