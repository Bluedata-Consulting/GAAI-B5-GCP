{
  "cells": [
    {
      "cell_type": "markdown",
      "metadata": {
        "id": "5ZBMUH466r3l"
      },
      "source": [
        "# Prompt Engineering Techniques"
      ]
    },
    {
      "cell_type": "markdown",
      "metadata": {
        "id": "hHVS-OUbexVn"
      },
      "source": [
        "\n",
        "Prompt engineering is the process of designing and refining prompts for large language models (LLMs) to elicit desired responses. Different techniques exist to improve the model's performance and controllability."
      ]
    },
    {
      "cell_type": "code",
      "execution_count": 1,
      "metadata": {
        "id": "HVEaMctAXC6D"
      },
      "outputs": [],
      "source": [
        "from google import genai\n",
        "from google.genai.types import HttpOptions\n",
        "client = genai.Client(http_options=HttpOptions(api_version='v1'))"
      ]
    },
    {
      "cell_type": "code",
      "execution_count": 19,
      "metadata": {
        "id": "0WAxkVWZ7LRi"
      },
      "outputs": [],
      "source": [
        "\n",
        "from google.genai import types\n",
        "\n",
        "# creating a function to get outcome\n",
        "def generate_response(prompt,model='gemini-2.0-flash',temperature=0):\n",
        "  response = client.models.generate_content(\n",
        "    model=model,\n",
        "    contents=prompt,\n",
        "    config=types.GenerateContentConfig(\n",
        "        temperature=temperature,  # Set the temperature here\n",
        "        max_output_tokens=1000,\n",
        "    ))\n",
        "\n",
        "  return response.text\n"
      ]
    },
    {
      "cell_type": "code",
      "execution_count": 3,
      "metadata": {
        "colab": {
          "base_uri": "https://localhost:8080/",
          "height": 35
        },
        "id": "ly5FNgJiqpGG",
        "outputId": "6b1f75a6-b23f-4f35-9ce1-c96be70cb691"
      },
      "outputs": [
        {
          "data": {
            "text/plain": [
              "\"Hi! I'm doing well, thank you for asking. How are you today?\\n\""
            ]
          },
          "execution_count": 3,
          "metadata": {},
          "output_type": "execute_result"
        }
      ],
      "source": [
        "generate_response(\"Hi! How are you.\")"
      ]
    },
    {
      "cell_type": "markdown",
      "metadata": {
        "id": "VwRbawJ7fE8C"
      },
      "source": [
        "\n",
        "## Zero-Shot Prompting\n",
        "**Description:** In zero-shot prompting, the model is given a prompt with a task and no examples of how to perform it. The model is expected to perform the task based solely on its pre-training.\n",
        "\n",
        "**Application Areas:** Simple tasks where the model has a strong understanding from its training data, such as classification, translation, or summarization for common domains.\n",
        "\n",
        "**When to Use:**\n",
        "- When the task is straightforward and aligns well with the model's pre-training.\n",
        "- When collecting examples for few-shot prompting is difficult or time-consuming.\n",
        "- As a baseline to see how well the model performs without explicit examples.\n",
        "\n",
        "**Example:**\n",
        "Prompt: \"Translate the following English sentence to French: 'Hello, how are you?'\"\n",
        "\n"
      ]
    },
    {
      "cell_type": "code",
      "execution_count": 4,
      "metadata": {
        "colab": {
          "base_uri": "https://localhost:8080/"
        },
        "id": "1DpqkFzDvsTe",
        "outputId": "02b66f90-f254-4d59-933f-35ed27fab520"
      },
      "outputs": [
        {
          "name": "stdout",
          "output_type": "stream",
          "text": [
            "\"Grandpa, look!\" Lily, all of six years old, burst through the back door, her pigtails bouncing. She held a dandelion, its fluffy head threatening to disintegrate with every excited movement.\n",
            "\n",
            "Grandpa Joe, perched on the porch swing with a well-worn book, looked up, a smile crinkling the corners of his eyes. \"Well, hello there, little dandelion fairy. What treasure have you brought me?\"\n",
            "\n",
            "Lily skipped closer, holding the dandelion out\n"
          ]
        }
      ],
      "source": [
        "# zero shot prompting\n",
        "prompt = f\"\"\"\n",
        "Create a conversation story between child and grandparent.\n",
        "\"\"\"\n",
        "response = generate_response(prompt)\n",
        "print(response)"
      ]
    },
    {
      "cell_type": "code",
      "execution_count": 5,
      "metadata": {
        "colab": {
          "base_uri": "https://localhost:8080/"
        },
        "id": "QFYcKG_-0kWO",
        "outputId": "99906f6f-d943-40b9-85bf-da4a20ffb0ef"
      },
      "outputs": [
        {
          "name": "stdout",
          "output_type": "stream",
          "text": [
            "Report Lost Card\n",
            "\n"
          ]
        }
      ],
      "source": [
        "prompt = \"\"\"Classify the customer's request into one of the following categories:\n",
        "- Account Balance Inquiry\n",
        "- Loan Application Status\n",
        "- Report Lost Card\n",
        "- Fund Transfer Issue\n",
        "- Credit Card Application\n",
        "\n",
        "\n",
        "Customer: \"Can you tell me what to do in case I misplaced my debit card?\"\n",
        "Category:\"\"\"\n",
        "output = generate_response(prompt)\n",
        "print(output)"
      ]
    },
    {
      "cell_type": "markdown",
      "metadata": {
        "id": "HOgSzz8YfOh1"
      },
      "source": [
        "## Few-Shot Prompting\n",
        "**Description:** Few-shot prompting involves providing the model with a few examples (typically 1 to 5) of the desired input-output pairs before presenting the actual task. This helps the model understand the format and type of output expected.\n",
        "\n",
        "**Application Areas:** Tasks where the desired output format is specific, or the task requires understanding a particular style or pattern. Examples include generating text in a specific style, answering questions in a particular format, or performing tasks on less common data.\n",
        "\n",
        "**When to Use:**\n",
        "- When zero-shot performance is not sufficient.\n",
        "- When the task requires a specific output format or style.\n",
        "- When the task involves domains or data less frequently seen during pre-training.\n",
        "- To guide the model towards desired behavior without fine-tuning.\n",
        "**Example:**\n",
        "Prompt:\n",
        "\"Translate to Spanish:\n",
        "English: 'Goodbye'\n",
        "Spanish: 'Adiós'\n",
        "English: 'Thank you'\n",
        "Spanish: 'Gracias'\n",
        "English: 'Please'\n",
        "Spanish: 'Por favor'\n",
        "English: 'Excuse me'\n",
        "Spanish: 'Disculpe'\"\n"
      ]
    },
    {
      "cell_type": "code",
      "execution_count": 6,
      "metadata": {
        "colab": {
          "base_uri": "https://localhost:8080/"
        },
        "id": "8SurLNqfa6wi",
        "outputId": "178c535e-d442-45c2-be0a-cd22c32cac88"
      },
      "outputs": [
        {
          "name": "stdout",
          "output_type": "stream",
          "text": [
            "<grandma>: Resilience is like a seed pushing through the hard ground to become a flower, even after a long winter.\n",
            "\n"
          ]
        }
      ],
      "source": [
        "# few shot prompting\n",
        "prompt = f\"\"\"\n",
        "your task is to answer in a consistent sytle:\n",
        "\n",
        "<child>: Teach me about patience.\n",
        "<grandma>: Patience is like waiting for whole day to see the moon in the evening and then sleeping after having a look at it.\n",
        "\n",
        "<child>: Teach me about resilience.\n",
        "\"\"\"\n",
        "response = generate_response(prompt)\n",
        "print(response)"
      ]
    },
    {
      "cell_type": "code",
      "execution_count": 8,
      "metadata": {
        "colab": {
          "base_uri": "https://localhost:8080/"
        },
        "id": "C35gcOBquRLy",
        "outputId": "cf0405be-d917-49b9-95b3-7c63f892d365"
      },
      "outputs": [
        {
          "name": "stdout",
          "output_type": "stream",
          "text": [
            "Account Balance Inquiry\n",
            "\n"
          ]
        }
      ],
      "source": [
        "prompt = \"\"\"Classify the customer's request into one of the following categories:\n",
        "- Account Balance Inquiry\n",
        "- Loan Application Status\n",
        "- Report Lost Card\n",
        "- Fund Transfer Issue\n",
        "- Credit Card Application\n",
        "\n",
        "Examples:\n",
        "Customer: \"What's the current balance in my savings account?\"\n",
        "Category: Account Balance Inquiry\n",
        "\n",
        "Customer: \"I need to know where my loan application stands.\"\n",
        "Category: Loan Application Status\n",
        "\n",
        "Customer: \"My credit card is missing, I think I lost it.\"\n",
        "Category: Report Lost Card\n",
        "\n",
        "Customer: \"I tried to send money to my friend but it's not going through.\"\n",
        "Category: Fund Transfer Issue\n",
        "\n",
        "Customer: \"I want to apply for a new credit card.\"\n",
        "Category: Credit Card Application\n",
        "\n",
        "Customer: \"Can you tell me how much money I have in my checking account?\"\n",
        "Category:\"\"\"\n",
        "\n",
        "output = generate_response(prompt)\n",
        "print(output)"
      ]
    },
    {
      "cell_type": "code",
      "execution_count": 9,
      "metadata": {
        "id": "UV5HXoyUw6EB"
      },
      "outputs": [],
      "source": [
        "def get_categorization(qus):\n",
        "    prompt = f\"\"\"Classify the customer's request into one of the following categories:\n",
        "      - Account Balance Inquiry\n",
        "      - Loan Application Status\n",
        "      - Report Lost Card\n",
        "      - Fund Transfer Issue\n",
        "      - Credit Card Application\n",
        "\n",
        "      Examples:\n",
        "      Customer: \"What's the current balance in my savings account?\"\n",
        "      Category: Account Balance Inquiry\n",
        "\n",
        "      Customer: \"I need to know where my loan application stands.\"\n",
        "      Category: Loan Application Status\n",
        "\n",
        "      Customer: \"My credit card is missing, I think I lost it.\"\n",
        "      Category: Report Lost Card\n",
        "\n",
        "      Customer: \"I tried to send money to my friend but it's not going through.\"\n",
        "      Category: Fund Transfer Issue\n",
        "\n",
        "      Customer: \"I want to apply for a new credit card.\"\n",
        "      Category: Credit Card Application\n",
        "\n",
        "      Customer: {qus}\n",
        "      Category:\"\"\"\n",
        "    output = generate_response(prompt)\n",
        "    return output\n"
      ]
    },
    {
      "cell_type": "code",
      "execution_count": 10,
      "metadata": {
        "colab": {
          "base_uri": "https://localhost:8080/",
          "height": 35
        },
        "id": "uprjDunnxNJ2",
        "outputId": "5ed8787e-3f07-4022-d022-c87396bbaa77"
      },
      "outputs": [
        {
          "data": {
            "text/plain": [
              "'Account Balance Inquiry\\n'"
            ]
          },
          "execution_count": 10,
          "metadata": {},
          "output_type": "execute_result"
        }
      ],
      "source": [
        "get_categorization(\"can you help me with my checkin balance?\")"
      ]
    },
    {
      "cell_type": "code",
      "execution_count": 11,
      "metadata": {
        "colab": {
          "base_uri": "https://localhost:8080/",
          "height": 35
        },
        "id": "JG1382mnxRuT",
        "outputId": "4ee25900-b935-44b1-e6cc-df21ae56ece2"
      },
      "outputs": [
        {
          "data": {
            "text/plain": [
              "'Report Lost Card\\n'"
            ]
          },
          "execution_count": 11,
          "metadata": {},
          "output_type": "execute_result"
        }
      ],
      "source": [
        "get_categorization(\"I think I missed my credit card while travelling yesterday at airport, what do i do next?\")"
      ]
    },
    {
      "cell_type": "code",
      "execution_count": 12,
      "metadata": {
        "colab": {
          "base_uri": "https://localhost:8080/",
          "height": 35
        },
        "id": "Op_ARQWRxaFQ",
        "outputId": "73708f57-bfc0-4f59-ae2c-d6c0218ce39d"
      },
      "outputs": [
        {
          "data": {
            "text/plain": [
              "'Credit Card Application\\n'"
            ]
          },
          "execution_count": 12,
          "metadata": {},
          "output_type": "execute_result"
        }
      ],
      "source": [
        "get_categorization(\"How do apply for a new credit card?\")"
      ]
    },
    {
      "cell_type": "markdown",
      "metadata": {
        "id": "D5X0lYWVfTeg"
      },
      "source": [
        "\n",
        "## Chain-of-Thought (CoT) Prompting\n",
        "**Description:** CoT prompting involves explicitly asking the model to show its reasoning steps or thought process before arriving at the final answer. This is often achieved by including phrases like \"Let's think step by step\" in the prompt. CoT can be used in a zero-shot or few-shot setting (Zero-shot CoT or Few-shot CoT).\n",
        "\n",
        "**Application Areas:** Complex reasoning tasks such as arithmetic, logical deduction, multi-step problem-solving, and question answering that requires synthesis of information.\n",
        "\n",
        "**When to Use:**\n",
        "- When the task requires multi-step reasoning.\n",
        "- When the final answer depends on intermediate steps.\n",
        "- To improve the accuracy on complex problems by guiding the model through the solution process.\n",
        "- To understand the model's reasoning and debug incorrect outputs.\n",
        "**Example (Few-shot CoT):**\n",
        "Prompt:\n",
        "\"Q: Roger has 5 tennis balls. He buys 2 more cans of tennis balls. Each can has 3 tennis balls. How many tennis balls does he have now?\n",
        "A: Roger started with 5 balls. He bought 2 cans with 3 balls each, so he bought 2 * 3 = 6 balls. Total balls = 5 + 6 = 11. The answer is 11.\n",
        "\n",
        "Q: The cafeteria had 23 apples. If they used 20 and then bought 6 more, how many apples do they have?\n",
        "A: Let's think step by step. The cafeteria had 23 apples. They used 20, so they had 23 - 20 = 3 apples left. Then they bought 6 more, so they have 3 + 6 = 9 apples. The answer is 9.\n",
        "\n",
        "Q: [New complex question]\n",
        "A: Let's think step by step.\"\n"
      ]
    },
    {
      "cell_type": "code",
      "execution_count": 13,
      "metadata": {
        "colab": {
          "base_uri": "https://localhost:8080/"
        },
        "id": "JbMnOeiq2atC",
        "outputId": "7d89ce7c-a5bf-4d67-9f4d-423e9b1613e3"
      },
      "outputs": [
        {
          "name": "stdout",
          "output_type": "stream",
          "text": [
            "Student: 8 pens\n",
            "\n"
          ]
        }
      ],
      "source": [
        "# Without Chain of Thought Prompting = Only Few Shot (No CoT)\n",
        "prompt = f\"\"\"\n",
        "Answer below question\n",
        "Teacher: Johan had 5 apples, he bought 4 more boxes with 5 apples each. How many apples does he have now?\n",
        "Student: 25 apples\n",
        "\n",
        "Teacher: Marry had 5 pens, she gave 3 to her friend. and bought 2 boxes of pen with 3 pen in each box. How many pens does she have now?\n",
        "Student:\n",
        "\"\"\"\n",
        "response = generate_response(prompt)\n",
        "print(response)"
      ]
    },
    {
      "cell_type": "code",
      "execution_count": 14,
      "metadata": {
        "colab": {
          "base_uri": "https://localhost:8080/"
        },
        "id": "_7Hz_cvLbhw_",
        "outputId": "22682936-5600-4213-afc0-7a6feb6dd115"
      },
      "outputs": [
        {
          "name": "stdout",
          "output_type": "stream",
          "text": [
            "Marry had 5 pens, gave 3 to her friend, bought 2 boxes of pen with 3 pen in each box = 5 - 3 + 2*3 = 8 pens\n",
            "\n"
          ]
        }
      ],
      "source": [
        "# with Chain of Thought prompting = Few Shot CoT\n",
        "prompt = f\"\"\"\n",
        "\n",
        "Teacher: Johan had 5 apples, he bought 4 more boxes with 5 apples each. How many apples does he have now?\n",
        "Student: Johan had 5 apples, 4 boxes with 5 apples each = 5 + 4*5 = 25 apples\n",
        "\n",
        "Teacher: Marry had 5 pens, she gave 3 to her friend. and bought 2 boxes of pen with 3 pen in each box. How many pens does she have now?\n",
        "Student:\n",
        "\n",
        "\"\"\"\n",
        "response = generate_response(prompt)\n",
        "print(response)"
      ]
    },
    {
      "cell_type": "code",
      "execution_count": 15,
      "metadata": {
        "colab": {
          "base_uri": "https://localhost:8080/"
        },
        "id": "A7SWadXtr5ou",
        "outputId": "bfd9506c-5c7e-4e0a-d049-7399196aa8b8"
      },
      "outputs": [
        {
          "name": "stdout",
          "output_type": "stream",
          "text": [
            "Okay, let's break this problem down step-by-step:\n",
            "\n",
            "1. **Start:** Mary begins with 5 pens.\n",
            "\n",
            "2. **Gives away:** She gives 3 pens away.  So we subtract: 5 - 3 = 2 pens.\n",
            "\n",
            "3. **Boxes of pens:** She buys 2 boxes of pens.\n",
            "\n",
            "4. **Pens per box:** Each box has 3 pens.\n",
            "\n",
            "5. **Total new pens:** So she gets\n"
          ]
        }
      ],
      "source": [
        "# with Chain of Thought prompting = Zero shot CoT\n",
        "prompt = f\"\"\"\n",
        "\n",
        "Think step by step to answer below question, do not come to conclusion without following process.\n",
        "Teacher: Marry had 5 pens, she gave 3 to her friend. and bought 2 boxes of pen with 3 pen in each box. How many pens does she have now?\n",
        "Student:\n",
        "\n",
        "\"\"\"\n",
        "response = generate_response(prompt)\n",
        "print(response)"
      ]
    },
    {
      "cell_type": "code",
      "execution_count": 20,
      "metadata": {
        "colab": {
          "base_uri": "https://localhost:8080/"
        },
        "id": "BIqsOZPD3J1J",
        "outputId": "69e3c6a5-a7c4-424d-ec61-5cc759ee6495"
      },
      "outputs": [
        {
          "name": "stdout",
          "output_type": "stream",
          "text": [
            "Let's analyze the customer's profile against each tier's requirements:\n",
            "\n",
            "*   **Gold Tier:**\n",
            "    *   Average daily balance: $8,000 (Meets the $5,000 requirement)\n",
            "    *   Combined linked accounts: $45,000 (Meets the $25,000 requirement)\n",
            "    *   Debit card transactions: 17 (Meets the 5 transaction requirement)\n",
            "    *   **Conclusion: The customer meets all Gold Tier requirements.**\n",
            "\n",
            "*   **Platinum Tier:**\n",
            "    *   Average daily balance: $8,000 (Does NOT meet the $25,000 requirement)\n",
            "    *   Combined linked accounts: $45,000 (Does NOT meet the $100,000 requirement)\n",
            "    *   Debit card transactions: 17 (Meets the 10 transaction requirement)\n",
            "    *   Credit score: 720 (Meets the 700 or higher requirement)\n",
            "    *   **Conclusion: The customer does NOT meet all Platinum Tier requirements (specifically the balance requirements).**\n",
            "\n",
            "**Answer:** Gold\n",
            "\n"
          ]
        }
      ],
      "source": [
        "# without Chain of thought\n",
        "\n",
        "prompt = \"\"\"\n",
        "Based on the following eligibility criteria, determine which tier of the Premium Checking Account (Gold, Platinum, or None) the customer qualifies for.\n",
        "Answer the question:\n",
        "**Gold Tier Eligibility:**\n",
        "- Maintain a minimum average daily balance of $5,000 OR\n",
        "- Have at least $25,000 in combined linked accounts.\n",
        "- Must also have at least 5 debit card transactions per month.\n",
        "\n",
        "**Platinum Tier Eligibility:**\n",
        "- Maintain a minimum average daily balance of $25,000 OR\n",
        "- Have at least $100,000 in combined linked accounts.\n",
        "- Must also have at least 10 debit card transactions per month.\n",
        "- Additionally, must have a credit score of 700 or higher.\n",
        "\n",
        "**Customer Profile:**\n",
        "- Average daily checking balance: $8,000\n",
        "- Combined linked accounts balance: $45,000\n",
        "- Debit card transactions last month: 17\n",
        "- Credit score: 720\n",
        "\n",
        "Which tier does this customer qualify for?\n",
        "\"\"\"\n",
        "print(generate_response(prompt))"
      ]
    },
    {
      "cell_type": "code",
      "execution_count": 21,
      "metadata": {
        "colab": {
          "base_uri": "https://localhost:8080/"
        },
        "id": "Py3qgX5z3JuL",
        "outputId": "8500dbe6-aba2-4e01-e4f1-e403d3436a5a"
      },
      "outputs": [
        {
          "name": "stdout",
          "output_type": "stream",
          "text": [
            "Okay, let's break down the customer's eligibility for each tier:\n",
            "\n",
            "**Gold Tier:**\n",
            "\n",
            "*   **Minimum Average Daily Balance:** The customer has $8,000, which meets the $5,000 requirement.\n",
            "*   **Combined Linked Accounts:** The customer has $15,000, which does NOT meet the $25,000 requirement.\n",
            "*   **Debit Card Transactions:** The customer had 7 transactions, which meets the 5 transaction requirement.\n",
            "\n",
            "Since the customer meets the average daily balance requirement and the debit card transaction requirement, they qualify for the Gold Tier.\n",
            "\n",
            "**Platinum Tier:**\n",
            "\n",
            "*   **Minimum Average Daily Balance:** The customer has $8,000, which does NOT meet the $25,000 requirement.\n",
            "*   **Combined Linked Accounts:** The customer has $15,000, which does NOT meet the $100,000 requirement.\n",
            "*   **Debit Card Transactions:** The customer had 7 transactions, which does NOT meet the 10 transaction requirement.\n",
            "*   **Credit Score:** The customer has a credit score of 720, which meets the 700 or higher requirement.\n",
            "\n",
            "Since the customer does not meet the average daily balance, combined linked accounts, or debit card transaction requirements, they do not qualify for the Platinum Tier.\n",
            "\n",
            "**Conclusion:**\n",
            "\n",
            "The customer qualifies for the **Gold** tier.\n",
            "\n"
          ]
        }
      ],
      "source": [
        "# Zero shot Chain of thought\n",
        "\n",
        "prompt = \"\"\"\n",
        "Based on the following eligibility criteria, determine which tier of the Premium Checking Account (Gold, Platinum, or None) the customer qualifies for.\n",
        "Answer the question:\n",
        "**Gold Tier Eligibility:**\n",
        "- Maintain a minimum average daily balance of $5,000 OR\n",
        "- Have at least $25,000 in combined linked accounts.\n",
        "- Must also have at least 5 debit card transactions per month.\n",
        "\n",
        "**Platinum Tier Eligibility:**\n",
        "- Maintain a minimum average daily balance of $25,000 OR\n",
        "- Have at least $100,000 in combined linked accounts.\n",
        "- Must also have at least 10 debit card transactions per month.\n",
        "- Additionally, must have a credit score of 700 or higher.\n",
        "\n",
        "**Customer Profile:**\n",
        "- Average daily checking balance: $8,000\n",
        "- Combined linked accounts balance: $15,000\n",
        "- Debit card transactions last month: 7\n",
        "- Credit score: 720\n",
        "\n",
        "Which tier does this customer qualify for?\n",
        "Lets analyze the customer profile step by step and try answer the question.\n",
        "\"\"\"\n",
        "print(generate_response(prompt))"
      ]
    },
    {
      "cell_type": "code",
      "execution_count": null,
      "metadata": {
        "id": "_EJyupnv3JjC"
      },
      "outputs": [],
      "source": []
    },
    {
      "cell_type": "markdown",
      "metadata": {
        "id": "bQvoNRxqVo5_"
      },
      "source": [
        "## Tree of Thoughts (ToT)\n",
        "\n",
        "Tree of Thoughts (ToT) prompting is a framework that generalizes over chain-of-thought prompting and encourages exploration over thoughts that serve as intermediate steps for general problem-solving with language models.\n"
      ]
    },
    {
      "cell_type": "markdown",
      "metadata": {
        "id": "X3xmMlSmfXU1"
      },
      "source": [
        "\n",
        "**Description:** ToT is an extension of CoT where the model explores multiple reasoning paths (a tree structure) instead of a single linear chain of thought. It generates multiple intermediate thoughts and explores their consequences, allowing for backtracking and exploration of different possibilities before selecting the most promising path to the solution.\n",
        "\n",
        "**Application Areas:** More complex and open-ended reasoning tasks than CoT, such as creative writing, strategic planning, and problem-solving that might require exploring multiple hypotheses.\n",
        "\n",
        "**When to Use:**\n",
        "- When the problem has multiple potential approaches or intermediate steps.\n",
        "- When a single linear chain of thought might lead to local optima or dead ends.\n",
        "- For tasks requiring more extensive exploration of possibilities.\n",
        "\n",
        "**How it Works (conceptually):** ToT prompting breaks problems down into smaller parts, similar to CoT prompting, but goes further by combining this with the ability to explore multiple solution paths in parallel, forming a tree instead of a single chain. Each thought is generated or solved independently and passed to the next step, allowing the model to self-evaluate and decide whether to continue with that path or choose another.\n",
        "\n",
        "Generate potential intermediate thoughts -> Evaluate their validity/promise -> Select the most promising ones -> Recursively generate further thoughts until a solution is reached. This typically requires more sophisticated prompting or external control mechanisms than basic CoT.\n"
      ]
    },
    {
      "cell_type": "code",
      "execution_count": 22,
      "metadata": {
        "colab": {
          "base_uri": "https://localhost:8080/"
        },
        "id": "zF7_WBM9MT78",
        "outputId": "30b7c577-1f80-400b-d2d6-cc94dbabeaad"
      },
      "outputs": [
        {
          "name": "stdout",
          "output_type": "stream",
          "text": [
            "Okay, let's get our expert panel together to solve this watch mystery! We have:\n",
            "\n",
            "*   **Expert A: The Probability Analyst:** Focuses on the likelihood of events based on Carlos's actions.\n",
            "*   **Expert B: The Motion Physicist:** Considers the physics of the watch's movement and trajectory.\n",
            "*   **Expert C: The Human Behaviorist:** Analyzes Carlos's actions and likely thought processes.\n",
            "*   **Expert D: The Loss Prevention Specialist:** Thinks about common loss scenarios and patterns.\n",
            "*   **Expert E: The Empathetic Reconstructor:** Tries to mentally reconstruct Carlos's journey and experience.\n",
            "\n",
            "Let's begin!\n",
            "\n",
            "**Step 1:**\n",
            "\n",
            "*   **Expert A (Probability Analyst):** The watch was definitely in the towel at the locker room. The first key event is the shaking of the towel at the lounger. This is the first point where the watch *could* have been dislodged. Therefore, the lounger area has a high initial probability. (Likelihood: 70%)\n",
            "\n",
            "*   **Expert B (Motion Physicist):** The vigorous shaking at the lounger is crucial. The watch's inertia would resist the change in motion, making it likely to fly out of the towel. The distance it travels depends on the force of the shake, the watch's weight, and the towel's configuration. (Likelihood: 80%)\n",
            "\n",
            "*   **Expert C (Human Behaviorist):** Carlos's actions suggest he wasn't consciously aware of the watch's vulnerability. He carried the towel \"tightly,\" but that doesn't guarantee the watch was secure. His subsequent actions (shaking, leaving the towel) indicate a lack of concern for its safety. (Likelihood: 60%)\n",
            "\n",
            "*   **Expert D (Loss Prevention Specialist):** People often lose items when transitioning between activities or locations. The lounger, being a transition point between the locker room and the snack bar, is a prime suspect. The shaking action significantly increases the risk. (Likelihood: 75%)\n",
            "\n",
            "*   **Expert E (Empathetic Reconstructor):** I'm picturing Carlos relaxing at the lounger, maybe a bit careless after his swim. He shakes the towel to dry it off, not thinking about the watch inside. The lounger area feels like the most likely spot. (Likelihood: 70%)\n",
            "\n",
            "**Critique of Step 1:**\n",
            "\n",
            "*   **Expert A to Expert B:** Good point about the physics. We need to consider the potential range of the watch's trajectory.\n",
            "*   **Expert B to Expert A:** The probability needs to be refined based on the force of the shake. A gentle shake is different from a vigorous one.\n",
            "*   **Expert C to Expert D:** I agree about the transition point. People are often distracted during transitions.\n",
            "*   **Expert D to Expert E:** The empathetic reconstruction is helpful. It reinforces the idea of carelessness.\n",
            "*   **Expert E to Expert C:** The lack of awareness is key. If Carlos knew the watch was vulnerable, he would have acted differently.\n",
            "\n",
            "**Step 2:**\n",
            "\n",
            "*   **Expert B (Motion Physicist):** Let's refine the physics. A \"vigorous\" shake implies a significant force. A typical men's watch weighs around 50-100 grams. With a vigorous shake, the watch could easily travel several feet, maybe even 5-10 feet, depending on the angle and force. We need to consider the area *around* the lounger. (Likelihood: 90%)\n",
            "\n",
            "*   **Expert D (Loss Prevention Specialist):** We need to consider the environment around the lounger. Is it grassy? Paved? Is there furniture nearby? These factors will affect where the watch might land and how easily it can be found. If it's grassy, it could be hidden. (Likelihood: 85%)\n",
            "\n",
            "*   **Expert A (Probability Analyst):** Expanding the search area around the lounger is crucial. We need to consider the probability distribution of the watch's landing spot. It's not just *at* the lounger, but within a radius of several feet. (Likelihood: 80%)\n",
            "\n",
            "*   **Expert E (Empathetic Reconstructor):** I'm now picturing the watch landing *under* the lounger or nearby furniture. That would explain why Carlos didn't immediately notice it was missing. (Likelihood: 75%)\n",
            "\n",
            "*   **Expert C (Human Behaviorist):** Carlos's next action was walking to the snack bar. This suggests he didn't immediately realize the watch was gone. If he had, he would have searched\n"
          ]
        }
      ],
      "source": [
        "\n",
        "prompt = \"\"\"\n",
        "Imagine 5 different experts are answering this question.\n",
        "They will brainstorm the answer step by step reasoning carefully and taking all facts into consideration\n",
        "All experts will write down 1 step of their thinking,\n",
        "then share it with the group.\n",
        "They will each critique their response, and the all the responses of others\n",
        "They will check their answer based on science and the laws of physics\n",
        "They will keep going through steps until they reach their conclusion taking into account the thoughts of the other experts\n",
        "If at any time they realise that there is a flaw in their logic they will backtrack to where that flaw occurred\n",
        "If any expert realises they're wrong at any point then they acknowledges this and start another train of thought\n",
        "Each expert will assign a likelihood of their current assertion being correct\n",
        "Continue until the experts agree on the single most likely location\n",
        "The question is.\n",
        "1. Carlos is at the swimming pool.\n",
        "2. He walks to the locker room, carrying a towel.\n",
        "3. He puts his watch in the towel and carries the towel tightly to a lounger at the poolside.\n",
        "4. At the lounger he opens and vigorously shakes the towel, then walks to the snack bar.\n",
        "5. He leaves the towel at the snack bar, then walks to the diving board.\n",
        "6. Later Carlos realises he has has lost his watch. Where is the single most likely location of the watch?\n",
        "\"\"\"\n",
        "\n",
        "\n",
        "ans=generate_response(prompt)\n",
        "\n",
        "print(ans)"
      ]
    },
    {
      "cell_type": "code",
      "execution_count": 23,
      "metadata": {
        "colab": {
          "base_uri": "https://localhost:8080/"
        },
        "id": "ltjr2yv4ixSe",
        "outputId": "16ecf323-c4b3-4d50-ed01-f74c44ea783f"
      },
      "outputs": [
        {
          "name": "stdout",
          "output_type": "stream",
          "text": [
            "Okay, let's simulate this loan application review process with five loan officers.\n",
            "\n",
            "**Loan Application Summary:**\n",
            "\n",
            "*   **Customer Name:** John Doe\n",
            "*   **Loan Amount Requested:** $50,000\n",
            "*   **Loan Type:** Personal Loan\n",
            "*   **Annual Income:** $75,000\n",
            "*   **Credit Score:** 720\n",
            "*   **Employment Status:** Full-time\n",
            "*   **Employment Duration:** 5 years\n",
            "*   **Existing Debt Obligations:** $1,000/month (includes car loan and credit card payments)\n",
            "*   **Assets:** $20,000 in savings, $10,000 in investments\n",
            "*   **Purpose of Loan:** Home Improvement\n",
            "*   **Payment History:** No late payments in the last 3 years\n",
            "\n",
            "**Round 1: Initial Observations**\n",
            "\n",
            "*   **Loan Officer 1 (LO1):** \"The credit score of 720 is good, indicating a responsible borrower. This is a positive initial indicator.\" (Likelihood: Low Risk)\n",
            "*   **Loan Officer 2 (LO2):** \"Income of $75,000 against a $50,000 loan request needs further scrutiny. We need to calculate the Debt-to-Income (DTI) ratio to see how manageable this loan is.\" (Likelihood: Medium Risk)\n",
            "*   **Loan Officer 3 (LO3):** \"The loan purpose, home improvement, is generally considered a lower-risk purpose than, say, starting a business. It suggests the borrower is investing in an existing asset.\" (Likelihood: Low Risk)\n",
            "*   **Loan Officer 4 (LO4):** \"Employment duration of 5 years at the same job shows stability, which is a good sign for repayment ability.\" (Likelihood: Low Risk)\n",
            "*   **Loan Officer 5 (LO5):** \"Assets of $20,000 in savings and $10,000 in investments provide a cushion for the borrower in case of unexpected financial hardship. This strengthens the application.\" (Likelihood: Low Risk)\n",
            "\n",
            "**Round 2: Critique and Refinement**\n",
            "\n",
            "*   **LO1:** \"While the credit score is good, it's just one factor. LO2 is right; we need to calculate DTI. A good credit score doesn't guarantee affordability.\" (Revised Likelihood: Medium Risk)\n",
            "*   **LO2:** \"My initial assessment was too broad. Let's calculate the DTI. Current debt is $1,000/month. New loan payment (estimated at 5% interest over 5 years) would be roughly $943/month. Total debt: $1943/month. DTI: ($1943 * 12) / $75000 = 31.1%. This is within an acceptable range, but on the higher end.\" (Revised Likelihood: Medium Risk)\n",
            "*   **LO3:** \"I agree with LO2's DTI calculation. While home improvement is a good purpose, we should verify if the borrower has obtained quotes or estimates for the work. This shows planning and reduces the risk of the loan being used for something else.\" (Revised Likelihood: Medium Risk)\n",
            "*   **LO4:** \"Employment stability is good, but we should verify the employer and the borrower's position to confirm the income and employment duration.\" (Revised Likelihood: Medium Risk)\n",
            "*   **LO5:** \"The assets are a positive, but we need to verify the liquidity of the investments. Are they easily accessible, or are there penalties for early withdrawal?\" (Revised Likelihood: Medium Risk)\n",
            "\n",
            "**Round 3: Further Investigation and Policy Check**\n",
            "\n",
            "*   **LO1:** \"Our bank policy states that DTI should ideally be below 36% for personal loans. LO2's calculation puts us at 31.1%, which is acceptable, but we need to consider other factors.\" (Likelihood: Medium Risk)\n",
            "*   **LO2:** \"I checked current economic indicators. Interest rates are stable, and the unemployment rate is low. This suggests a stable environment for repayment.\" (Likelihood: Medium Risk)\n",
            "*   **LO3:** \"Let's assume we verified employment and the borrower's position. Also, let's assume the borrower provided quotes for the home improvement project.\" (Likelihood: Low Risk)\n",
            "*   **LO4:** \"Assuming verification of employment and home improvement quotes, the risk is decreasing. The borrower has a good credit score, stable employment, and a reasonable DTI.\" (Likelihood: Low Risk)\n",
            "*   **LO5\n"
          ]
        }
      ],
      "source": [
        "\n",
        "# ToT Prompt for Loan Application Approval\n",
        "\n",
        "prompt = \"\"\"\n",
        "Imagine 5 different loan officers are reviewing a customer's loan application.\n",
        "They will brainstorm the decision step by step, reasoning carefully and taking all facts into consideration from the application.\n",
        "Each loan officer will write down 1 key observation or analysis step from the application data,\n",
        "then share it with the group.\n",
        "They will each critique their response, and all the responses of others based on standard lending practices and risk assessment criteria.\n",
        "They will check their analysis against established bank policies and economic indicators.\n",
        "They will keep going through steps until they reach their conclusion on whether to approve or reject the loan, taking into account the observations and critiques of the other loan officers.\n",
        "If at any time they realize there is a flaw in their analysis or a crucial piece of information is overlooked, they will backtrack to where that flaw occurred.\n",
        "If any loan officer realizes their assessment is weak or incorrect at any point, they acknowledge this and start another train of thought, focusing on different aspects of the application.\n",
        "Each loan officer will assign a likelihood (e.g., High Risk, Medium Risk, Low Risk) based on their current assertion about the application's overall risk profile.\n",
        "Continue until the loan officers agree on the single most likely outcome (Approve or Reject) based on a consensus risk assessment.\n",
        "\n",
        "The customer's loan application details are as follows:\n",
        "\n",
        "Customer Name: [Customer Name]\n",
        "Loan Amount Requested: [Amount]\n",
        "Loan Type: [e.g., Personal Loan, Mortgage]\n",
        "Annual Income: [Income]\n",
        "Credit Score: [Score]\n",
        "Employment Status: [e.g., Full-time, Self-employed]\n",
        "Employment Duration: [Duration]\n",
        "Existing Debt Obligations: [List or summary]\n",
        "Assets: [List or summary]\n",
        "Purpose of Loan: [Purpose]\n",
        "Payment History: [Summary of past credit behavior]\n",
        "\n",
        "Based on these details, where is the single most likely outcome of the loan application (Approve or Reject)?\n",
        "\"\"\"\n",
        "\n",
        "# Replace bracketed information with actual application details\n",
        "customer_details_prompt = prompt.replace(\"[Customer Name]\", \"John Doe\") \\\n",
        "                               .replace(\"[Amount]\", \"$50,000\") \\\n",
        "                               .replace(\"[Loan Type]\", \"Personal Loan\") \\\n",
        "                               .replace(\"[Income]\", \"$75,000\") \\\n",
        "                               .replace(\"[Score]\", \"720\") \\\n",
        "                               .replace(\"[Employment Status]\", \"Full-time\") \\\n",
        "                               .replace(\"[Employment Duration]\", \"5 years\") \\\n",
        "                               .replace(\"[Existing Debt Obligations]\", \"Credit card balance: $5,000, Auto loan payment: $400/month\") \\\n",
        "                               .replace(\"[Assets]\", \"Savings account: $20,000, Car value: $15,000\") \\\n",
        "                               .replace(\"[Purpose of Loan]\", \"Home renovation\") \\\n",
        "                               .replace(\"[Summary of past credit behavior]\", \"No late payments in the last 3 years\")\n",
        "\n",
        "ans = generate_response(customer_details_prompt)\n",
        "\n",
        "print(ans)\n"
      ]
    },
    {
      "cell_type": "code",
      "execution_count": 24,
      "metadata": {
        "colab": {
          "base_uri": "https://localhost:8080/"
        },
        "id": "H2vh3_-Af-gp",
        "outputId": "c99b90a8-3cdc-42e8-fd60-34978cbbbb29"
      },
      "outputs": [
        {
          "name": "stdout",
          "output_type": "stream",
          "text": [
            "Okay, let's begin. Here's how the five experts will approach this challenge:\n",
            "\n",
            "**The Experts:**\n",
            "\n",
            "*   **Supply Chain Finance Expert (SCF):** Focuses on the structure and mechanics of the SCF program.\n",
            "*   **Risk Management Expert (RM):** Identifies and mitigates risks for the bank.\n",
            "*   **Data Science Expert (DS):** Leverages data to optimize the program and assess risk.\n",
            "*   **Operations Expert (OP):** Ensures the program is operationally feasible and scalable.\n",
            "*   **Customer Relationship Management Expert (CRM):** Focuses on client and supplier onboarding, communication, and satisfaction.\n",
            "\n",
            "**Round 1: Initial Thoughts**\n",
            "\n",
            "Each expert will write down their initial thought/step.\n",
            "\n",
            "*   **SCF:** \"First, we need to understand the supplier base segmentation. Are we dealing with a few large suppliers and many small ones, or a more even distribution? This will heavily influence the type of SCF program we can offer. We should start with a dynamic discounting program for the larger suppliers and then explore reverse factoring for the smaller ones.\" (Likelihood: 70%)\n",
            "\n",
            "*   **RM:** \"My initial concern is the creditworthiness of the buyer (the manufacturing company). Before designing any SCF program, we need a thorough credit risk assessment, including stress testing scenarios to understand their ability to repay the bank in various economic conditions. We also need to understand the concentration risk – how dependent are they on a few key buyers?\" (Likelihood: 85%)\n",
            "\n",
            "*   **DS:** \"I'd want to analyze the historical payment data between the buyer and their suppliers. This includes invoice amounts, payment dates, and any instances of late payments or disputes. This data will help us identify potential bottlenecks and predict future cash flow needs for both the buyer and suppliers. We can also use this data to risk-score suppliers.\" (Likelihood: 90%)\n",
            "\n",
            "*   **OP:** \"From an operational perspective, we need to assess the current invoice processing system of the buyer. Is it automated or manual? How easily can it integrate with our bank's SCF platform? A smooth and efficient invoice approval process is crucial for the success of any SCF program. We also need to consider the onboarding process for suppliers – how many suppliers can we realistically onboard per month?\" (Likelihood: 75%)\n",
            "\n",
            "*   **CRM:** \"We need to understand the buyer's relationship with their suppliers. Are they strategic partners, or more transactional relationships? How open are the suppliers to participating in an SCF program? A key factor will be clearly communicating the benefits of the program to both the buyer and their suppliers, emphasizing improved cash flow and reduced administrative burden.\" (Likelihood: 80%)\n",
            "\n",
            "**Round 1: Critique and Discussion**\n",
            "\n",
            "Now, each expert will critique their own and others' responses.\n",
            "\n",
            "*   **SCF (Critiquing Self):** \"My initial thought is good, but I need to be more specific about the criteria for segmenting suppliers. Revenue size is one factor, but also consider their creditworthiness and strategic importance to the buyer.\"\n",
            "\n",
            "*   **SCF (Critiquing RM):** \"The credit risk assessment is crucial, but we also need to consider the risk of supplier concentration. If a few key suppliers fail, it could disrupt the buyer's operations.\"\n",
            "\n",
            "*   **SCF (Critiquing DS):** \"The data analysis is essential. Can the data science team also identify early warning signs of supplier distress based on payment patterns?\"\n",
            "\n",
            "*   **SCF (Critiquing OP):** \"The operational feasibility is important. We need to understand the cost of integrating with the buyer's system and the scalability of the onboarding process.\"\n",
            "\n",
            "*   **SCF (Critiquing CRM):** \"Communication is key. We need a clear value proposition for both the buyer and the suppliers. What are the specific benefits they will receive?\"\n",
            "\n",
            "*   **RM (Critiquing Self):** \"My initial thought is too focused on the buyer. I need to also consider the credit risk of the suppliers, especially the smaller ones. We might need to implement a credit insurance policy to cover potential supplier defaults.\"\n",
            "\n",
            "*   **RM (Critiquing SCF):** \"The supplier segmentation is a good starting point, but we need to ensure that the chosen SCF program aligns with the risk profile of each segment.\"\n",
            "\n",
            "*   **RM (Critiquing DS):** \"The data analysis can help us identify risky suppliers, but we also need to consider non-financial factors, such as their reputation and industry outlook.\"\n",
            "\n",
            "*   **RM (Critiquing OP):** \"The operational efficiency is important, but we also need to ensure that the program complies with all relevant regulations, such as KYC and AML.\"\n",
            "\n",
            "*   **RM (Critiquing CRM):\n"
          ]
        }
      ],
      "source": [
        "# ToT Prompt for Enterprise Banking Scenario: Supply Chain Finance Optimization\n",
        "\n",
        "prompt = \"\"\"\n",
        "Imagine 5 different experts in Supply Chain Finance, Risk Management, Data Science, Operations, and Customer Relationship Management are collaborating to address the following challenge:\n",
        "\n",
        "A large manufacturing company, a client of your bank, is experiencing significant working capital strain due to long payment terms with their suppliers (averaging 90 days)\n",
        "and relatively short payment terms from their buyers (averaging 45 days).\n",
        "This creates a cash flow gap that they currently bridge using expensive short-term loans from other institutions.\n",
        "\n",
        "Your bank wants to propose a comprehensive Supply Chain Finance (SCF) solution that benefits both the manufacturing company (the buyer) and their key suppliers,\n",
        " increases the bank's revenue through new products, and strengthens the overall client relationship.\n",
        " The goal is not just to offer a standard factoring or reverse factoring product, but to design an integrated, optimized solution leveraging data and\n",
        " potentially incorporating risk mitigation strategies for the bank.\n",
        "\n",
        "The experts will brainstorm the design of this SCF solution step by step, reasoning carefully and taking all relevant factors into consideration for the buyer,\n",
        "their suppliers, and the bank.\n",
        "\n",
        "All experts will write down 1 step of their thinking related to designing this optimized SCF solution, then share it with the group.\n",
        "They will each critique their response, and all the responses of others.\n",
        "They will consider the perspectives and constraints of the buyer (manufacturing company), their diverse set of suppliers (ranging from large corporations to small businesses), and the bank (risk appetite, operational capacity, revenue goals).\n",
        "They will keep going through steps until they reach a well-defined and compelling SCF solution proposal, taking into account the thoughts of the other experts.\n",
        "If at any time they realize that there is a flaw in their logic or a critical aspect is missed, they will backtrack to where that flaw occurred.\n",
        "If any expert realizes they're wrong at any point, they acknowledge this and start another train of thought.\n",
        "Each expert will assign a likelihood of their current proposed element of the solution being successful or viable.\n",
        "\n",
        "Continue until the experts agree on the single most effective and viable integrated SCF solution proposal that addresses the working capital needs of the buyer and their suppliers while creating a valuable new revenue stream and strengthening the relationship for the bank.\n",
        "\n",
        "The challenge is:\n",
        "Design an optimized and integrated Supply Chain Finance solution for a large manufacturing client facing a working capital gap due to mismatched payment terms, considering the needs of their suppliers and the bank's objectives.\n",
        "\"\"\"\n",
        "\n",
        "ans = generate_response(prompt)\n",
        "print(ans)\n"
      ]
    },
    {
      "cell_type": "markdown",
      "metadata": {
        "id": "jEUSbUTejH1L"
      },
      "source": [
        "## Chain-of-Verification (CoVe) Prompting\n",
        "\n",
        "**Description:** Chain-of-Verification (CoVe) is a prompting technique designed to improve the factual accuracy of Large Language Models (LLMs) by explicitly prompting the model to generate a draft response, then generate verification questions for its own response, answer those questions independently of the initial draft, and finally use the answers to revise and improve the original draft. This creates a self-correction mechanism.\n",
        "\n",
        "**Application Areas:** Tasks requiring high factual accuracy and reduced hallucination, such as question answering, summarization of factual information, and generating reports or summaries based on provided text. It is particularly useful when dealing with complex or potentially ambiguous information where the model might otherwise confidently generate incorrect details.\n",
        "\n",
        "**When to Use:**\n",
        "- When factual accuracy is critical and errors could be harmful or misleading.\n",
        "- To reduce hallucinations and improve the reliability of the model's output.\n",
        "- When verifying information against external sources is not immediately feasible or desired within the prompting process itself.\n",
        "- For generating summaries or answers that require synthesizing information from multiple potential points within the model's knowledge or context.\n",
        "\n",
        "**How it Works:**\n",
        "1. **Generate Initial Draft:** The model first generates a direct answer or response to the original prompt.\n",
        "2. **Generate Verification Questions:** The model is then prompted to generate questions that would help verify the correctness of the statements made in the initial draft.\n",
        "3. **Answer Verification Questions:** The model answers these verification questions *independently* of the initial draft, drawing from its internal knowledge or provided context. This step is crucial as it prevents the model from simply confirming its own potential errors.\n",
        "4. **Revise Initial Draft:** The model compares the answers to the verification questions with the original draft and revises the draft to align with the verified information.\n",
        "\n",
        "This iterative process helps the model identify inconsistencies or inaccuracies in its initial output and correct them before presenting the final response.\n",
        "\n",
        "**Example (Conceptual):**\n",
        "\n",
        "Prompt: \"Explain the process of photosynthesis and its main outputs.\"\n",
        "\n",
        "1.  **Initial Draft (Internal):** \"Photosynthesis is how plants make food. They use sunlight, water, and carbon dioxide. The main output is oxygen and sugar.\" (Might contain slight inaccuracies or missing details).\n",
        "2.  **Generate Verification Questions (Internal):**\n",
        "    *   \"What are the inputs of photosynthesis?\"\n",
        "    *   \"What are the outputs of photosynthesis?\"\n",
        "    *   \"What is the role of chlorophyll?\"\n",
        "    *   \"Where does photosynthesis primarily occur in a plant?\"\n",
        "3.  **Answer Verification Questions (Internal, independently):**\n",
        "    *   \"Inputs are carbon dioxide, water, and light energy.\"\n",
        "    *   \"Outputs are glucose (a sugar) and oxygen.\"\n",
        "    *   \"Chlorophyll is a pigment that absorbs light energy.\"\n",
        "    *   \"It occurs mainly in chloroplasts within plant cells.\"\n",
        "4.  **Revise Initial Draft (Internal, based on verified answers):** \"Photosynthesis is the process by which green plants and some other organisms use sunlight to synthesize foods with the help of chlorophyll. During photosynthesis, plants take in carbon dioxide from the air, water from the soil, and light energy from the sun. Using the energy absorbed by chlorophyll in their chloroplasts, they convert these inputs into glucose, a sugar they use for energy and growth, and oxygen, which is released as a byproduct.\"\n",
        "\n",
        "The final output presented to the user would be the revised draft. While the user doesn't see the intermediate steps, the process happens internally within the model's processing based on the CoVe prompt structure.\n"
      ]
    },
    {
      "cell_type": "code",
      "execution_count": 25,
      "metadata": {
        "colab": {
          "base_uri": "https://localhost:8080/"
        },
        "id": "u9mjZtAJfDdm",
        "outputId": "2d9cccbe-3492-4cb9-ac00-e6769418bc88"
      },
      "outputs": [
        {
          "name": "stdout",
          "output_type": "stream",
          "text": [
            "Okay, let's do this.\n",
            "\n",
            "**Initial Response:**\n",
            "\n",
            "Here are some athletes born in the United States:\n",
            "\n",
            "*   Michael Jordan (Basketball)\n",
            "*   Serena Williams (Tennis)\n",
            "*   LeBron James (Basketball)\n",
            "*   Simone Biles (Gymnastics)\n",
            "*   Tom Brady (American Football)\n",
            "\n",
            "**Verification Questions and Answers:**\n",
            "\n",
            "1.  **Question:** Was Michael Jordan born in the United States?\n",
            "    **Answer:** Yes. He was born in Brooklyn, New York.\n",
            "\n",
            "2.  **Question:** Was Serena Williams born in the United States?\n",
            "    **Answer:** Yes. She was born in Saginaw, Michigan.\n",
            "\n",
            "3.  **Question:** Was LeBron James born in the United States?\n",
            "    **Answer:** Yes. He was born in Akron, Ohio.\n",
            "\n",
            "4.  **Question:** Was Simone Biles born in the United States?\n",
            "    **Answer:** Yes. She was born in Columbus, Ohio.\n",
            "\n",
            "5.  **Question:** Was Tom Brady born in the United States?\n",
            "    **Answer:** Yes. He was born in San Mateo, California.\n",
            "\n",
            "**Revised and Verified Response:**\n",
            "\n",
            "Here are some athletes born in the United States:\n",
            "\n",
            "*   Michael Jordan (Basketball)\n",
            "*   Serena Williams (Tennis)\n",
            "*   LeBron James (Basketball)\n",
            "*   Simone Biles (Gymnastics)\n",
            "*   Tom Brady (American Football)\n",
            "\n"
          ]
        }
      ],
      "source": [
        "Question=\"Name some athletes who were born in United states\"\n",
        "\n",
        "prompt=f'''Here is the question: {Question}.\n",
        "\n",
        "First, generate a response.\n",
        "\n",
        "Then, create and answer verification questions based on this response to check for accuracy.\n",
        "Think it through and make sure you are extremely accurate based on the question asked.\n",
        "\n",
        "After answering each verification question, consider these answers and revise the initial response to formulate a final, verified answer.\n",
        "Ensure the final response reflects the accuracy and findings from the verification process.'''\n",
        "\n",
        "\n",
        "\n",
        "ans=generate_response(prompt)\n",
        "\n",
        "print(ans)\n"
      ]
    },
    {
      "cell_type": "code",
      "execution_count": 26,
      "metadata": {
        "colab": {
          "base_uri": "https://localhost:8080/"
        },
        "id": "z-AcZ3o3jinD",
        "outputId": "6faef050-a3d9-4957-d881-5a5d141e13f8"
      },
      "outputs": [
        {
          "name": "stdout",
          "output_type": "stream",
          "text": [
            "Okay, let's break down this complex derivative trade request.\n",
            "\n",
            "**Customer's Derivative Trade Request Details:**\n",
            "\n",
            "*   **Underlying Asset:** EUR/USD currency pair\n",
            "*   **Notional Value:** $100,000,000\n",
            "*   **Tenor:** 2 years\n",
            "*   **Trade Type:** FX Forward\n",
            "*   **Client:** Acme Corp, Credit Rating: BBB+\n",
            "*   **Purpose:** Hedging foreign exchange exposure\n",
            "\n",
            "**I. Initial Assessment:**\n",
            "\n",
            "**Potential Benefits:**\n",
            "\n",
            "*   **Client Relationship:** Facilitating this trade strengthens the relationship with Acme Corp, a BBB+ rated client.\n",
            "*   **Revenue Generation:** The bank earns a spread on the FX forward.\n",
            "*   **Hedging Solution:** Provides Acme Corp with a solution to manage their FX risk, potentially leading to further business.\n",
            "\n",
            "**Immediate Red Flags:**\n",
            "\n",
            "*   **Large Notional Value:** $100 million is a significant amount, requiring careful consideration of credit risk and market impact.\n",
            "*   **Two-Year Tenor:** A two-year tenor introduces longer-term exposure to currency fluctuations and counterparty risk.\n",
            "*   **Credit Risk:** While BBB+ is investment grade, it's not the highest rating. We need to verify the creditworthiness and exposure limits for Acme Corp.\n",
            "*   **Market Volatility:** FX markets can be volatile. We need to assess the potential impact of adverse currency movements on the bank's exposure.\n",
            "*   **Regulatory Scrutiny:** Large FX forwards are subject to regulatory reporting and compliance requirements (e.g., EMIR, Dodd-Frank).\n",
            "*   **Pricing Accuracy:** Ensuring the forward rate is competitive and accurately reflects market conditions is crucial.\n",
            "\n",
            "**II. Verification Questions and Answers:**\n",
            "\n",
            "Here's a series of verification questions, tailored to the initial assessment, along with detailed answers:\n",
            "\n",
            "**1. Is the counterparty's credit risk within acceptable limits for a trade of this size and tenor?**\n",
            "\n",
            "*   **Answer:** We need to consult the bank's internal credit risk management system.\n",
            "    *   **Action:** Check Acme Corp's credit limit.  Determine if a $100 million, 2-year FX forward pushes them over their existing limit.\n",
            "    *   **Considerations:**\n",
            "        *   **Credit Rating:** BBB+ is investment grade, but we need to consider the specific agency rating (S&P, Moody's, Fitch) and any recent downgrades or negative outlooks.\n",
            "        *   **Credit Default Swaps (CDS):** Check the CDS spreads for Acme Corp.  Widening spreads indicate increasing credit risk.\n",
            "        *   **Financial Statements:** Review Acme Corp's latest financial statements (balance sheet, income statement, cash flow statement) to assess their financial health and ability to meet their obligations.\n",
            "        *   **Industry Analysis:** Consider the industry Acme Corp operates in. Is the industry facing any specific challenges that could impact their creditworthiness?\n",
            "    *   **Potential Outcomes:**\n",
            "        *   **Within Limit:** Proceed to the next question.\n",
            "        *   **Approaching Limit:**  Consider reducing the notional value, shortening the tenor, requiring collateral, or obtaining credit insurance.\n",
            "        *   **Exceeds Limit:**  The trade cannot proceed without senior management approval and potentially additional risk mitigation measures.\n",
            "\n",
            "**2. Does this trade comply with all relevant regulatory requirements for derivative transactions (e.g., EMIR, Dodd-Frank)?**\n",
            "\n",
            "*   **Answer:** This requires a thorough review by the compliance department.\n",
            "    *   **Action:** Submit the trade details to the compliance team for review.\n",
            "    *   **Considerations:**\n",
            "        *   **Reporting Requirements:**  Is this trade reportable under EMIR/Dodd-Frank?  Ensure the bank has the necessary infrastructure to report the trade to the relevant trade repositories.\n",
            "        *   **Clearing Obligations:** Is this trade subject to mandatory clearing? If so, it must be cleared through a central counterparty (CCP).\n",
            "        *   **Margin Requirements:**  Are there initial and variation margin requirements for this trade?  Ensure Acme Corp has the necessary funds to meet these requirements.\n",
            "        *   **Know Your Customer (KYC) and Anti-Money Laundering (AML) Compliance:**  Verify that Acme Corp has undergone the necessary KYC and AML checks.\n",
            "    *   **Potential Outcomes:**\n",
            "        *   **Compliant:** Proceed to the next question.\n",
            "        *   **Non-Compliant:**  The trade must be modified to comply with regulations or rejected.\n",
            "\n",
            "**3. Does the pricing of this derivative accurately reflect current market conditions and volatility?**\n",
            "\n",
            "*   **Answer:** This requires validation by the trading desk and independent pricing verification.\n"
          ]
        }
      ],
      "source": [
        "prompt = \"\"\"\n",
        "In an enterprise banking context, a customer is requesting a complex derivative trade.\n",
        "This involves intricate details regarding the underlying asset, notional value, tenor, strike price, option type (if applicable),\n",
        "counterparty credit risk, regulatory compliance, and internal risk limits.\n",
        "\n",
        "The task is to assess the viability and risks of this specific derivative trade request for the bank.\n",
        "\n",
        "First, generate an initial assessment of the trade request, including potential benefits and immediate red flags based on standard derivative trading practices\n",
        "and market knowledge.\n",
        "\n",
        "Then, create and answer a series of verification questions specifically tailored to validate the critical details and associated risks mentioned in the initial assessment.\n",
        " Think through each question carefully, drawing upon knowledge of financial instruments, risk management frameworks, regulatory requirements (e.g., Dodd-Frank, EMIR),\n",
        " and internal banking policies.\n",
        "\n",
        "Examples of potential verification questions:\n",
        "- Is the counterparty's credit risk within acceptable limits for a trade of this size and tenor?\n",
        "- Does this trade comply with all relevant regulatory requirements for derivative transactions?\n",
        "- Does the pricing of this derivative accurately reflect current market conditions and volatility?\n",
        "- How does this trade impact the bank's overall exposure to the underlying asset?\n",
        "- Are the operational processes and systems in place to handle the settlement and ongoing management of this specific derivative type?\n",
        "- Has the client undergone the necessary suitability and appropriateness checks for complex products like this?\n",
        "\n",
        "After answering each verification question independently, consider these answers and revise the initial assessment to formulate a final,\n",
        " verified decision on whether to proceed with the trade, including any necessary conditions or risk mitigation steps.\n",
        " Ensure the final response is a comprehensive analysis reflecting the accuracy and findings from the verification process and aligns with the bank's risk appetite and policies.\n",
        "\n",
        "The customer's derivative trade request details are:\n",
        "[Provide specific details of the trade request here, e.g.,\n",
        "Underlying Asset: EUR/USD currency pair\n",
        "Notional Value: $100,000,000\n",
        "Tenor: 2 years\n",
        "Trade Type: FX Forward\n",
        "Client: [Client Name], Credit Rating: [Rating]\n",
        "Purpose: Hedging foreign exchange exposure]\n",
        "\"\"\"\n",
        "\n",
        "# Replace bracketed information with actual trade request details\n",
        "trade_details_prompt = prompt.replace(\"[Provide specific details of the trade request here...]\",\n",
        "                                       \"\"\"Underlying Asset: Interest Rate Swap (Fixed-to-Floating USD)\n",
        "Notional Value: $250,000,000\n",
        "Tenor: 5 years\n",
        "Trade Type: Receive Fixed, Pay Floating\n",
        "Client: [Client Name], Credit Rating: AA-\n",
        "Purpose: Hedge against rising interest rates on existing floating-rate debt\"\"\")\n",
        "\n",
        "ans = generate_response(trade_details_prompt)\n",
        "print(ans)\n"
      ]
    },
    {
      "cell_type": "markdown",
      "metadata": {
        "id": "YHcwBHMjkb5r"
      },
      "source": [
        "## ReAct Prompting\n",
        "**Description:** ReAct (Reasoning and Acting) prompting is a technique that combines reasoning trace generation with task-specific actions. It encourages the model to interleave thinking steps (Reasoning) with taking actions (Acting) through tools or interacting with an environment. The model observes the outcomes of its actions and uses this information to refine its subsequent reasoning and actions. This allows the model to perform tasks that require interacting with external sources of information or performing physical (or simulated physical) actions.\n",
        "\n",
        "**Application Areas:** Tasks that require external knowledge lookup, interacting with APIs or tools, complex decision-making, and environments where actions have observable consequences. Examples include answering questions that require searching the web, using a calculator for complex math, interacting with a simulated game environment, or completing tasks that involve multiple external steps.\n",
        "\n",
        "**When to Use:**\n",
        "- When the task requires up-to-date information not present in the model's training data.\n",
        "- When the task involves complex calculations or operations that the model is not inherently good at performing reliably.\n",
        "- When the task requires interacting with external systems or data sources.\n",
        "- To enable the model to break down a complex task into smaller, executable steps based on external feedback.\n",
        "\n",
        "**How it Works (Simulated in a Prompt):** In a prompt, ReAct is simulated by guiding the model to explicitly state its \"Thought\" process (reasoning about the next step or action) and its \"Action\" (the action it would take or the tool it would use), followed by an \"Observation\" (the simulated result of the action). The model then uses the Observation to inform its next Thought and Action.\n"
      ]
    },
    {
      "cell_type": "code",
      "execution_count": 27,
      "metadata": {
        "colab": {
          "base_uri": "https://localhost:8080/"
        },
        "id": "jak5rQ_ekwj6",
        "outputId": "ed7662df-1050-4480-a005-fdad4b0ce7c0"
      },
      "outputs": [
        {
          "name": "stdout",
          "output_type": "stream",
          "text": [
            "Thought: To find the current population of Tokyo, I need to consult a reliable source of demographic data. I will start by searching the web for the most recent population estimates for Tokyo. I will look for sources like the Tokyo Metropolitan Government, the United Nations, or reputable statistical websites.\n",
            "Action: Search the web for \"current population of Tokyo\"\n",
            "Observation: The search results show several sources, including:\n",
            "1. Worldometers: Claims a population of 14,043,084 (2023)\n",
            "2. Macrotrends: Claims a population of 37,435,000 (2023)\n",
            "3. Tokyo Metropolitan Government: (Link to official website)\n",
            "\n",
            "I need to investigate the Tokyo Metropolitan Government website to find the most accurate and official number.\n",
            "Action: Visit the Tokyo Metropolitan Government website and search for population statistics.\n",
            "Observation: After navigating the Tokyo Metropolitan Government website (simulated), I found a page with population statistics. The latest data available is from January 1, 2024, which states the population of Tokyo Metropolis is approximately 14.11 million.\n",
            "\n",
            "Thought: I have found a reliable source, the Tokyo Metropolitan Government, with recent population data. I can now answer the question.\n",
            "Final Answer: As of January 1, 2024, the population of Tokyo Metropolis is approximately 14.11 million.\n",
            "\n"
          ]
        }
      ],
      "source": [
        "prompt = \"\"\"\n",
        "You are a helpful assistant that can answer questions by first thinking step-by-step about the question, then deciding on an action (like searching or using a tool),\n",
        "observing the result of the action, and then repeating the process until you can formulate a final answer.\n",
        "\n",
        "Your process should follow this format:\n",
        "\n",
        "Thought: Think step-by-step about the question and what information you need to answer it.\n",
        "Action: [Describe the action you would take or tool you would use]\n",
        "Observation: [Simulate the result of the action]\n",
        "... (Repeat Thought, Action, Observation until you have enough information)\n",
        "Thought: Now that I have the necessary information, I can formulate the final answer.\n",
        "Final Answer: [Provide the final answer]\n",
        "\n",
        "Here is the question: What is the current population of Tokyo?\n",
        "\n",
        "\"\"\"\n",
        "\n",
        "ans = generate_response(prompt)\n",
        "print(ans)\n"
      ]
    },
    {
      "cell_type": "code",
      "execution_count": 28,
      "metadata": {
        "colab": {
          "base_uri": "https://localhost:8080/"
        },
        "id": "xr_yEd3Wjw6Y",
        "outputId": "4ab8810f-449d-4834-f0d2-b6e062da8066"
      },
      "outputs": [
        {
          "name": "stdout",
          "output_type": "stream",
          "text": [
            "**Thought:** To determine if Company X's stock is overvalued based on its P/E ratio, I need to first calculate the company's P/E ratio and then compare it to the average P/E ratio of the technology sector. A significantly higher P/E ratio than the industry average suggests the stock might be overvalued.\n",
            "\n",
            "**Action:** I will use a financial data provider (simulated here) to find Company X's current stock price and its Earnings Per Share (EPS).\n",
            "\n",
            "**Observation:** Company X Stock Price: $150, EPS: $5.00\n",
            "\n",
            "**Thought:** Now I need to calculate Company X's P/E ratio using the stock price and EPS.\n",
            "\n",
            "**Action:** I will calculate the P/E ratio by dividing the stock price by the EPS: $150 / $5.00\n",
            "\n",
            "**Observation:** Company X P/E Ratio: 30x\n",
            "\n",
            "**Thought:** Next, I need to find the average P/E ratio for the technology sector to compare it with Company X's P/E ratio.\n",
            "\n",
            "**Action:** I will use a financial data provider (simulated here) to find the industry average P/E ratio for the Technology sector.\n",
            "\n",
            "**Observation:** Industry Average P/E Ratio (Technology): 25x\n",
            "\n",
            "**Thought:** Now I will compare Company X's P/E ratio (30x) to the industry average P/E ratio (25x). If Company X's P/E ratio is significantly higher than the industry average, it suggests the stock might be overvalued.\n",
            "\n",
            "**Action:** Compare Company X's P/E ratio (30x) to the Industry Average P/E ratio (25x). The difference is 30x - 25x = 5x. This is a 20% premium over the industry average (5/25 = 0.20).\n",
            "\n",
            "**Observation:** Company X's P/E ratio is higher than the industry average.\n",
            "\n",
            "**Thought:** Based on the P/E ratio comparison, Company X's stock appears to be potentially overvalued compared to its peers in the technology sector. A P/E ratio of 30x compared to an industry average of 25x suggests investors are paying a premium for each dollar of Company X's earnings.\n",
            "\n",
            "**Final Answer:** Company X's stock appears to be potentially overvalued based on its P/E ratio of 30x, which is higher than the technology sector average of 25x.\n",
            "\n"
          ]
        }
      ],
      "source": [
        "\n",
        "prompt = \"\"\"\n",
        "You are an expert financial analyst assistant. You need to determine if a company's stock is overvalued based on its current P/E ratio compared to the industry average.\n",
        "\n",
        "Follow the ReAct process:\n",
        "\n",
        "Thought: Think step-by-step about how to assess if the stock is overvalued based on the P/E ratio.\n",
        "Action: [Describe the action to find the company's current stock price and EPS to calculate its P/E ratio]\n",
        "Observation: [Simulate the result, e.g., \"Company X Stock Price: $150, EPS: $5.00\"]\n",
        "Thought: Calculate the company's P/E ratio.\n",
        "Action: [Describe the calculation: Stock Price / EPS]\n",
        "Observation: [Simulate the result, e.g., \"Company X P/E Ratio: 30x\"]\n",
        "Thought: Find the industry average P/E ratio for comparison.\n",
        "Action: [Describe the action to find the industry average P/E ratio for the relevant sector (e.g., Technology)]\n",
        "Observation: [Simulate the result, e.g., \"Industry Average P/E Ratio (Technology): 25x\"]\n",
        "Thought: Compare the company's P/E ratio to the industry average and determine if it is overvalued.\n",
        "Action: [Describe the comparison and decision process]\n",
        "Observation: [Simulate the result of the comparison]\n",
        "Thought: Formulate the final assessment.\n",
        "Final Answer: [Provide the final assessment based on the P/E comparison]\n",
        "\n",
        "Here is the company: Company X (Technology Sector)\n",
        "\"\"\"\n",
        "\n",
        "ans = generate_response(prompt)\n",
        "print(ans)"
      ]
    },
    {
      "cell_type": "markdown",
      "metadata": {
        "id": "U-DmK07y94x8"
      },
      "source": [
        "## Conversational App"
      ]
    },
    {
      "cell_type": "code",
      "execution_count": null,
      "metadata": {
        "colab": {
          "base_uri": "https://localhost:8080/"
        },
        "id": "zgHXbLb0bhxA",
        "outputId": "d3a1a50a-fcc8-4b12-a37b-54ab5d07aaf4"
      },
      "outputs": [
        {
          "name": "stdout",
          "output_type": "stream",
          "text": [
            "You:  exit\n"
          ]
        }
      ],
      "source": [
        "# Write code\n",
        "\n",
        "\n",
        "\n"
      ]
    },
    {
      "cell_type": "code",
      "execution_count": null,
      "metadata": {
        "id": "ZLeNuP-yaWeX"
      },
      "outputs": [],
      "source": []
    },
    {
      "cell_type": "markdown",
      "metadata": {
        "id": "3WErsqIf94x9"
      },
      "source": [
        "## Thank You"
      ]
    },
    {
      "cell_type": "code",
      "execution_count": null,
      "metadata": {
        "id": "ZoaLQdSYaWeY"
      },
      "outputs": [],
      "source": []
    },
    {
      "cell_type": "code",
      "execution_count": null,
      "metadata": {
        "id": "ksqyGiZbaWeZ"
      },
      "outputs": [],
      "source": []
    }
  ],
  "metadata": {
    "colab": {
      "include_colab_link": true,
      "provenance": []
    },
    "kernelspec": {
      "display_name": "base",
      "language": "python",
      "name": "python3"
    },
    "language_info": {
      "codemirror_mode": {
        "name": "ipython",
        "version": 3
      },
      "file_extension": ".py",
      "mimetype": "text/x-python",
      "name": "python",
      "nbconvert_exporter": "python",
      "pygments_lexer": "ipython3",
      "version": "3.10.9"
    }
  },
  "nbformat": 4,
  "nbformat_minor": 0
}
